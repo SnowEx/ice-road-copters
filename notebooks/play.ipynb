{
 "cells": [
  {
   "cell_type": "markdown",
   "metadata": {},
   "source": [
    "## Create Snow-On DEM with JSON Pipeline using PDAL"
   ]
  },
  {
   "cell_type": "markdown",
   "metadata": {},
   "source": [
    "## Import Libraries"
   ]
  },
  {
   "cell_type": "code",
   "execution_count": 4,
   "metadata": {},
   "outputs": [],
   "source": [
    "import numpy as np\n",
    "import pdal\n",
    "import json\n",
    "import laspy\n",
    "import open3d as o3d\n",
    "import os\n",
    "import matplotlib.pyplot as plt\n",
    "import rioxarray as rxa\n",
    "from os.path import join, basename, exists, dirname, abspath\n",
    "from glob import glob\n",
    "import geopandas as gpd\n",
    "import fiona\n",
    "from zipfile import ZipFile\n",
    "import shlex\n",
    "import subprocess\n",
    "import py3dep\n",
    "from shapely.geometry import box\n",
    "import pyproj\n",
    "from shapely.geometry import Point\n",
    "from shapely.ops import transform\n",
    "import contextily as cx"
   ]
  },
  {
   "cell_type": "markdown",
   "metadata": {},
   "source": [
    "## Define Functions\n",
    "Right now we only have one to do command line calls. Probably can be put into a seperate functions script and imported if we want to clean this up."
   ]
  },
  {
   "cell_type": "code",
   "execution_count": 11,
   "metadata": {},
   "outputs": [],
   "source": [
    "def cl_call(commamd):\n",
    "    process = subprocess.Popen(commamd, \n",
    "                           stdout=subprocess.PIPE,\n",
    "                           universal_newlines=True)\n",
    "\n",
    "    while True:\n",
    "        output = process.stdout.readline()\n",
    "        print(output.strip())\n",
    "        # Do something else\n",
    "        return_code = process.poll()\n",
    "        if return_code is not None:\n",
    "            print('RETURN CODE', return_code)\n",
    "            # Process has finished, read rest of the output \n",
    "            for output in process.stdout.readlines():\n",
    "                print(output.strip())\n",
    "            break"
   ]
  },
  {
   "cell_type": "markdown",
   "metadata": {},
   "source": [
    "## Capture filepaths for .laz and .kmz\n",
    "\n",
    "test_dir = directory name. We can iterate over this variable in future full runs to do all the lidar processing with one function"
   ]
  },
  {
   "cell_type": "code",
   "execution_count": 15,
   "metadata": {},
   "outputs": [],
   "source": [
    "test_dir = abspath('../test/09_EXPORT')\n",
    "laz_fps = glob(join(test_dir,'*.laz'))[:2]\n",
    "kmz_fp = glob(join(test_dir,'*.kmz'))[0]"
   ]
  },
  {
   "cell_type": "markdown",
   "metadata": {},
   "source": [
    "## Extract and visualize helicopter flight path (not neccessary for lidar processing)"
   ]
  },
  {
   "cell_type": "code",
   "execution_count": null,
   "metadata": {},
   "outputs": [],
   "source": [
    "with ZipFile(kmz_fp, 'r') as kmz:\n",
    "    kml_fps = kmz.namelist()\n",
    "    kmz.extractall(test_dir)\n",
    "kml_fp = [fp for fp in kml_fps if fp.endswith('kml')][0]\n",
    "my_map = gpd.read_file(join(test_dir, kml_fp), driver='KML')\n",
    "my_map[::1000].explore()"
   ]
  },
  {
   "cell_type": "markdown",
   "metadata": {},
   "source": [
    "## Download DEM for dem filtering step\n",
    "\n",
    "Needs to be projected into the right CRS (got from las files)"
   ]
  },
  {
   "cell_type": "code",
   "execution_count": 21,
   "metadata": {},
   "outputs": [],
   "source": [
    "import laspy\n",
    "filepath = laz_fps[0]\n",
    "\n",
    "with laspy.open(filepath) as data:\n",
    "     hdr = data.header\n",
    "     crs = hdr.parse_crs()\n",
    "wgs84 = pyproj.CRS('EPSG:4326')\n",
    "utm_bounds = box(hdr.mins[0], hdr.mins[1], hdr.maxs[0], hdr.maxs[1])\n",
    "project = pyproj.Transformer.from_crs(crs, wgs84 , always_xy=True).transform\n",
    "wgs84_bounds = transform(project, utm_bounds)\n",
    "dem_wgs = py3dep.get_map('DEM', wgs84_bounds, resolution = 1, crs = 'epsg:4326')\n",
    "dem_utm = dem_wgs.rio.reproject(crs)\n",
    "dem_fp = join('/Users/zachkeskinen/Documents/ice-road-copters/test/dems','full.tif')\n",
    "dem_utm.rio.to_raster(dem_fp)\n",
    "print(crs)\n",
    "print(crs.ellipsoid)"
   ]
  },
  {
   "cell_type": "markdown",
   "metadata": {},
   "source": [
    "## Mosaicing all LAZ files to one\n",
    "TO BE DONE!\n",
    "this is seems promising: https://gis.stackexchange.com/questions/372348/merging-multiple-las-files-using-python"
   ]
  },
  {
   "cell_type": "markdown",
   "metadata": {},
   "source": [
    "## Building JSON Pipeline from standard JSON pipeline\n",
    "\n",
    "TO BE DONE!\n",
    "Should only need to change the input file name to the mosaic outcome. "
   ]
  },
  {
   "cell_type": "markdown",
   "metadata": {},
   "source": [
    "## Running JSON Pipeline"
   ]
  },
  {
   "cell_type": "code",
   "execution_count": null,
   "metadata": {},
   "outputs": [],
   "source": [
    "cmd = 'pdal pipeline -i test.json --readers.las.filename=\"/Users/zachkeskinen/Documents/helicopter-lidar-processing/test/09_EXPORT/20220215_DryCreek_-_220215_173805_VQ-580.laz\"'\n",
    "cmd = 'pdal pipeline -i test.json -v 8'\n",
    "cmd = shlex.split(cmd)\n",
    "cl_call(cmd)"
   ]
  },
  {
   "cell_type": "markdown",
   "metadata": {},
   "source": [
    "### Playing with Tiling in PDAL"
   ]
  },
  {
   "cell_type": "code",
   "execution_count": null,
   "metadata": {},
   "outputs": [],
   "source": [
    "out_fns = join(test_dir, 'tiled', basename(laz_fps[0]).replace('.laz','') + '-#.laz')\n",
    "cmd = shlex.split(f'pdal tile -i {laz_fps[0]} -o {out_fns} --length 1000 -v 8')\n",
    "\n",
    "os.makedirs(join(test_dir, 'tiled'), exist_ok= True)\n",
    "cl_call(cmd)\n",
    "tiled_fps = glob(join(test_dir, 'tiled', '*.laz'))"
   ]
  },
  {
   "cell_type": "markdown",
   "metadata": {},
   "source": [
    "## Visualization\n",
    "\n",
    "o3d visualization is awesome but seems to kill my kernel everytime when I try and close the window. \n",
    "\n",
    "Rioxarray visualization seems safer for quick checks"
   ]
  },
  {
   "cell_type": "code",
   "execution_count": null,
   "metadata": {},
   "outputs": [],
   "source": [
    "PC = laspy.read('/Users/zachkeskinen/Documents/helicopter-lidar-processing/test/09_EXPORT/crop.laz')\n",
    "\n",
    "points = np.vstack((PC.X, PC.Y, PC.Z)).transpose()\n",
    "\n",
    "cloud = o3d.geometry.PointCloud()\n",
    "cloud.points = o3d.utility.Vector3dVector(points)\n",
    "#pcd.colors = o3d.utility.Vector3dVector(colors/65535)\n",
    "#pcd.normals = o3d.utility.Vector3dVector(normals)0\n",
    "o3d.visualization.draw_geometries([cloud])"
   ]
  },
  {
   "cell_type": "code",
   "execution_count": null,
   "metadata": {},
   "outputs": [],
   "source": [
    "out = rxa.open_rasterio('/Users/zachkeskinen/Documents/helicopter-lidar-processing/test/09_EXPORT/filter_class_full.tif', mask_and_scale=True)\n",
    "f, ax = plt.subplots(figsize = (16,12))\n",
    "out.plot(ax = ax)\n",
    "cx.add_basemap(ax= ax, crs = crs)"
   ]
  }
 ],
 "metadata": {
  "kernelspec": {
   "display_name": "Python 3.8.13 ('heli')",
   "language": "python",
   "name": "python3"
  },
  "language_info": {
   "codemirror_mode": {
    "name": "ipython",
    "version": 3
   },
   "file_extension": ".py",
   "mimetype": "text/x-python",
   "name": "python",
   "nbconvert_exporter": "python",
   "pygments_lexer": "ipython3",
   "version": "3.8.13"
  },
  "vscode": {
   "interpreter": {
    "hash": "b38bf96d929ed892a854a240f79fc97050674deef20950d0719a1a6703ca0f3a"
   }
  }
 },
 "nbformat": 4,
 "nbformat_minor": 2
}
