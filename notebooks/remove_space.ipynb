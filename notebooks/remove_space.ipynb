{
 "cells": [
  {
   "cell_type": "code",
   "execution_count": 3,
   "metadata": {},
   "outputs": [],
   "source": [
    "import os\n",
    "dir_path = '/SNOWDATA/IDALS/2021/20210204_DC'\n",
    "os.chdir(dir_path)\n",
    "for f in os.listdir(dir_path):\n",
    "    r = f.replace(\" \",\"\")\n",
    "    if( r != f):\n",
    "        os.rename(f,r)"
   ]
  },
  {
   "cell_type": "code",
   "execution_count": null,
   "metadata": {},
   "outputs": [],
   "source": []
  }
 ],
 "metadata": {
  "kernelspec": {
   "display_name": "Python 3.9.12 ('base')",
   "language": "python",
   "name": "python3"
  },
  "language_info": {
   "codemirror_mode": {
    "name": "ipython",
    "version": 3
   },
   "file_extension": ".py",
   "mimetype": "text/x-python",
   "name": "python",
   "nbconvert_exporter": "python",
   "pygments_lexer": "ipython3",
   "version": "3.9.12"
  },
  "orig_nbformat": 4,
  "vscode": {
   "interpreter": {
    "hash": "cc22901d81731fdfcf8db96eb6ed8bb16a5c008b22c545878fee5dc34a4a0b79"
   }
  }
 },
 "nbformat": 4,
 "nbformat_minor": 2
}
