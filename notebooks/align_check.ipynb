{
 "cells": [
  {
   "cell_type": "code",
   "execution_count": 3,
   "metadata": {},
   "outputs": [],
   "source": [
    "import rioxarray as rxa"
   ]
  },
  {
   "cell_type": "code",
   "execution_count": 4,
   "metadata": {},
   "outputs": [],
   "source": [
    "fp = '../data/results/pc-grid/run-DEM.tif'\n",
    "res = rxa.open_rasterio(fp)"
   ]
  },
  {
   "cell_type": "code",
   "execution_count": 5,
   "metadata": {},
   "outputs": [
    {
     "data": {
      "text/plain": [
       "1"
      ]
     },
     "execution_count": 5,
     "metadata": {},
     "output_type": "execute_result"
    }
   ],
   "source": [
    "res.values.shape[0]"
   ]
  },
  {
   "cell_type": "code",
   "execution_count": 2,
   "metadata": {},
   "outputs": [
    {
     "ename": "NameError",
     "evalue": "name 'res' is not defined",
     "output_type": "error",
     "traceback": [
      "\u001b[0;31m---------------------------------------------------------------------------\u001b[0m",
      "\u001b[0;31mNameError\u001b[0m                                 Traceback (most recent call last)",
      "\u001b[1;32m/home/zacharykeskinen/Documents/ice-road-copters/notebooks/align_check.ipynb Cell 2'\u001b[0m in \u001b[0;36m<cell line: 1>\u001b[0;34m()\u001b[0m\n\u001b[0;32m----> <a href='vscode-notebook-cell:/home/zacharykeskinen/Documents/ice-road-copters/notebooks/align_check.ipynb#ch0000001?line=0'>1</a>\u001b[0m res\u001b[39m.\u001b[39mvalues[\u001b[39m0\u001b[39m][\u001b[39m2000\u001b[39m,\u001b[39m2000\u001b[39m]\n",
      "\u001b[0;31mNameError\u001b[0m: name 'res' is not defined"
     ]
    }
   ],
   "source": [
    "res.values[0][2000,2000]"
   ]
  },
  {
   "cell_type": "code",
   "execution_count": 1,
   "metadata": {},
   "outputs": [
    {
     "ename": "NameError",
     "evalue": "name 'rxa' is not defined",
     "output_type": "error",
     "traceback": [
      "\u001b[0;31m---------------------------------------------------------------------------\u001b[0m",
      "\u001b[0;31mNameError\u001b[0m                                 Traceback (most recent call last)",
      "\u001b[1;32m/home/zacharykeskinen/Documents/ice-road-copters/notebooks/align_check.ipynb Cell 1'\u001b[0m in \u001b[0;36m<cell line: 1>\u001b[0;34m()\u001b[0m\n\u001b[0;32m----> <a href='vscode-notebook-cell:/home/zacharykeskinen/Documents/ice-road-copters/notebooks/align_check.ipynb#ch0000000?line=0'>1</a>\u001b[0m dem \u001b[39m=\u001b[39m rxa\u001b[39m.\u001b[39mopen_rasterio(\u001b[39m'\u001b[39m\u001b[39m/home/zacharykeskinen/Documents/ice-road-copters/data/results/dem.tif\u001b[39m\u001b[39m'\u001b[39m)\n\u001b[1;32m      <a href='vscode-notebook-cell:/home/zacharykeskinen/Documents/ice-road-copters/notebooks/align_check.ipynb#ch0000000?line=1'>2</a>\u001b[0m diff \u001b[39m=\u001b[39m res \u001b[39m-\u001b[39m dem\n\u001b[1;32m      <a href='vscode-notebook-cell:/home/zacharykeskinen/Documents/ice-road-copters/notebooks/align_check.ipynb#ch0000000?line=2'>3</a>\u001b[0m diff\u001b[39m.\u001b[39mplot(vmin \u001b[39m=\u001b[39m \u001b[39m1500\u001b[39m, vmax \u001b[39m=\u001b[39m \u001b[39m2000\u001b[39m)\n",
      "\u001b[0;31mNameError\u001b[0m: name 'rxa' is not defined"
     ]
    }
   ],
   "source": [
    "dem = rxa.open_rasterio('/home/zacharykeskinen/Documents/ice-road-copters/data/results/dem.tif')\n",
    "diff = res - dem\n",
    "diff.plot(vmin = 1500, vmax = 2000)"
   ]
  }
 ],
 "metadata": {
  "kernelspec": {
   "display_name": "Python 3.8.13 ('iceroad')",
   "language": "python",
   "name": "python3"
  },
  "language_info": {
   "codemirror_mode": {
    "name": "ipython",
    "version": 3
   },
   "file_extension": ".py",
   "mimetype": "text/x-python",
   "name": "python",
   "nbconvert_exporter": "python",
   "pygments_lexer": "ipython3",
   "version": "3.8.13"
  },
  "orig_nbformat": 4,
  "vscode": {
   "interpreter": {
    "hash": "14aac5828947b75d97bfce66d0ff9606be49ebe3317095af148ca98ecf57d790"
   }
  }
 },
 "nbformat": 4,
 "nbformat_minor": 2
}
