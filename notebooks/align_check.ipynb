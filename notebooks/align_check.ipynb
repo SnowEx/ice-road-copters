{
 "cells": [
  {
   "cell_type": "code",
   "execution_count": 1,
   "metadata": {},
   "outputs": [],
   "source": [
    "import rioxarray as rxa"
   ]
  },
  {
   "cell_type": "code",
   "execution_count": 2,
   "metadata": {},
   "outputs": [],
   "source": [
    "fp = '../data/results/pc-grid/run-DEM.tif'\n",
    "res = rxa.open_rasterio(fp)"
   ]
  },
  {
   "cell_type": "code",
   "execution_count": 8,
   "metadata": {},
   "outputs": [
    {
     "data": {
      "text/plain": [
       "(1, 3277, 4450)"
      ]
     },
     "execution_count": 8,
     "metadata": {},
     "output_type": "execute_result"
    }
   ],
   "source": [
    "res.values.shape"
   ]
  },
  {
   "cell_type": "code",
   "execution_count": 9,
   "metadata": {},
   "outputs": [
    {
     "data": {
      "text/plain": [
       "1774.4512"
      ]
     },
     "execution_count": 9,
     "metadata": {},
     "output_type": "execute_result"
    }
   ],
   "source": [
    "res.values[0][2000,2000]"
   ]
  },
  {
   "cell_type": "code",
   "execution_count": 12,
   "metadata": {},
   "outputs": [
    {
     "ename": "ValueError",
     "evalue": "zero-size array to reduction operation minimum which has no identity",
     "output_type": "error",
     "traceback": [
      "\u001b[0;31m---------------------------------------------------------------------------\u001b[0m",
      "\u001b[0;31mValueError\u001b[0m                                Traceback (most recent call last)",
      "\u001b[1;32m/home/zacharykeskinen/Documents/ice-road-copters/notebooks/align_check.ipynb Cell 5'\u001b[0m in \u001b[0;36m<cell line: 2>\u001b[0;34m()\u001b[0m\n\u001b[1;32m      <a href='vscode-notebook-cell:/home/zacharykeskinen/Documents/ice-road-copters/notebooks/align_check.ipynb#ch0000002?line=0'>1</a>\u001b[0m dem \u001b[39m=\u001b[39m rxa\u001b[39m.\u001b[39mopen_rasterio(\u001b[39m'\u001b[39m\u001b[39m/home/zacharykeskinen/Documents/ice-road-copters/data/results/dem.tif\u001b[39m\u001b[39m'\u001b[39m)\n\u001b[0;32m----> <a href='vscode-notebook-cell:/home/zacharykeskinen/Documents/ice-road-copters/notebooks/align_check.ipynb#ch0000002?line=1'>2</a>\u001b[0m diff \u001b[39m=\u001b[39m res \u001b[39m-\u001b[39;49m dem\n\u001b[1;32m      <a href='vscode-notebook-cell:/home/zacharykeskinen/Documents/ice-road-copters/notebooks/align_check.ipynb#ch0000002?line=2'>3</a>\u001b[0m diff\u001b[39m.\u001b[39mplot(vmin \u001b[39m=\u001b[39m \u001b[39m1500\u001b[39m, vmax \u001b[39m=\u001b[39m \u001b[39m2000\u001b[39m)\n",
      "File \u001b[0;32m~/miniconda3/envs/iceroad/lib/python3.8/site-packages/xarray/core/_typed_ops.py:209\u001b[0m, in \u001b[0;36mDataArrayOpsMixin.__sub__\u001b[0;34m(self, other)\u001b[0m\n\u001b[1;32m    208\u001b[0m \u001b[39mdef\u001b[39;00m \u001b[39m__sub__\u001b[39m(\u001b[39mself\u001b[39m, other):\n\u001b[0;32m--> 209\u001b[0m     \u001b[39mreturn\u001b[39;00m \u001b[39mself\u001b[39;49m\u001b[39m.\u001b[39;49m_binary_op(other, operator\u001b[39m.\u001b[39;49msub)\n",
      "File \u001b[0;32m~/miniconda3/envs/iceroad/lib/python3.8/site-packages/xarray/core/dataarray.py:3530\u001b[0m, in \u001b[0;36mDataArray._binary_op\u001b[0;34m(self, other, f, reflexive)\u001b[0m\n\u001b[1;32m   3526\u001b[0m other_variable \u001b[39m=\u001b[39m \u001b[39mgetattr\u001b[39m(other, \u001b[39m\"\u001b[39m\u001b[39mvariable\u001b[39m\u001b[39m\"\u001b[39m, other)\n\u001b[1;32m   3527\u001b[0m other_coords \u001b[39m=\u001b[39m \u001b[39mgetattr\u001b[39m(other, \u001b[39m\"\u001b[39m\u001b[39mcoords\u001b[39m\u001b[39m\"\u001b[39m, \u001b[39mNone\u001b[39;00m)\n\u001b[1;32m   3529\u001b[0m variable \u001b[39m=\u001b[39m (\n\u001b[0;32m-> 3530\u001b[0m     f(\u001b[39mself\u001b[39;49m\u001b[39m.\u001b[39;49mvariable, other_variable)\n\u001b[1;32m   3531\u001b[0m     \u001b[39mif\u001b[39;00m \u001b[39mnot\u001b[39;00m reflexive\n\u001b[1;32m   3532\u001b[0m     \u001b[39melse\u001b[39;00m f(other_variable, \u001b[39mself\u001b[39m\u001b[39m.\u001b[39mvariable)\n\u001b[1;32m   3533\u001b[0m )\n\u001b[1;32m   3534\u001b[0m coords, indexes \u001b[39m=\u001b[39m \u001b[39mself\u001b[39m\u001b[39m.\u001b[39mcoords\u001b[39m.\u001b[39m_merge_raw(other_coords, reflexive)\n\u001b[1;32m   3535\u001b[0m name \u001b[39m=\u001b[39m \u001b[39mself\u001b[39m\u001b[39m.\u001b[39m_result_name(other)\n",
      "File \u001b[0;32m~/miniconda3/envs/iceroad/lib/python3.8/site-packages/xarray/core/_typed_ops.py:399\u001b[0m, in \u001b[0;36mVariableOpsMixin.__sub__\u001b[0;34m(self, other)\u001b[0m\n\u001b[1;32m    398\u001b[0m \u001b[39mdef\u001b[39;00m \u001b[39m__sub__\u001b[39m(\u001b[39mself\u001b[39m, other):\n\u001b[0;32m--> 399\u001b[0m     \u001b[39mreturn\u001b[39;00m \u001b[39mself\u001b[39;49m\u001b[39m.\u001b[39;49m_binary_op(other, operator\u001b[39m.\u001b[39;49msub)\n",
      "File \u001b[0;32m~/miniconda3/envs/iceroad/lib/python3.8/site-packages/xarray/core/variable.py:2514\u001b[0m, in \u001b[0;36mVariable._binary_op\u001b[0;34m(self, other, f, reflexive)\u001b[0m\n\u001b[1;32m   2512\u001b[0m     other_data, self_data, dims \u001b[39m=\u001b[39m _broadcast_compat_data(other, \u001b[39mself\u001b[39m)\n\u001b[1;32m   2513\u001b[0m \u001b[39melse\u001b[39;00m:\n\u001b[0;32m-> 2514\u001b[0m     self_data, other_data, dims \u001b[39m=\u001b[39m _broadcast_compat_data(\u001b[39mself\u001b[39;49m, other)\n\u001b[1;32m   2515\u001b[0m keep_attrs \u001b[39m=\u001b[39m _get_keep_attrs(default\u001b[39m=\u001b[39m\u001b[39mFalse\u001b[39;00m)\n\u001b[1;32m   2516\u001b[0m attrs \u001b[39m=\u001b[39m \u001b[39mself\u001b[39m\u001b[39m.\u001b[39m_attrs \u001b[39mif\u001b[39;00m keep_attrs \u001b[39melse\u001b[39;00m \u001b[39mNone\u001b[39;00m\n",
      "File \u001b[0;32m~/miniconda3/envs/iceroad/lib/python3.8/site-packages/xarray/core/variable.py:2985\u001b[0m, in \u001b[0;36m_broadcast_compat_data\u001b[0;34m(self, other)\u001b[0m\n\u001b[1;32m   2984\u001b[0m \u001b[39mdef\u001b[39;00m \u001b[39m_broadcast_compat_data\u001b[39m(\u001b[39mself\u001b[39m, other):\n\u001b[0;32m-> 2985\u001b[0m     \u001b[39mif\u001b[39;00m \u001b[39mall\u001b[39;49m(\u001b[39mhasattr\u001b[39;49m(other, attr) \u001b[39mfor\u001b[39;49;00m attr \u001b[39min\u001b[39;49;00m [\u001b[39m\"\u001b[39;49m\u001b[39mdims\u001b[39;49m\u001b[39m\"\u001b[39;49m, \u001b[39m\"\u001b[39;49m\u001b[39mdata\u001b[39;49m\u001b[39m\"\u001b[39;49m, \u001b[39m\"\u001b[39;49m\u001b[39mshape\u001b[39;49m\u001b[39m\"\u001b[39;49m, \u001b[39m\"\u001b[39;49m\u001b[39mencoding\u001b[39;49m\u001b[39m\"\u001b[39;49m]):\n\u001b[1;32m   2986\u001b[0m         \u001b[39m# `other` satisfies the necessary Variable API for broadcast_variables\u001b[39;00m\n\u001b[1;32m   2987\u001b[0m         new_self, new_other \u001b[39m=\u001b[39m _broadcast_compat_variables(\u001b[39mself\u001b[39m, other)\n\u001b[1;32m   2988\u001b[0m         self_data \u001b[39m=\u001b[39m new_self\u001b[39m.\u001b[39mdata\n",
      "File \u001b[0;32m~/miniconda3/envs/iceroad/lib/python3.8/site-packages/xarray/core/variable.py:2985\u001b[0m, in \u001b[0;36m<genexpr>\u001b[0;34m(.0)\u001b[0m\n\u001b[1;32m   2984\u001b[0m \u001b[39mdef\u001b[39;00m \u001b[39m_broadcast_compat_data\u001b[39m(\u001b[39mself\u001b[39m, other):\n\u001b[0;32m-> 2985\u001b[0m     \u001b[39mif\u001b[39;00m \u001b[39mall\u001b[39m(\u001b[39mhasattr\u001b[39;49m(other, attr) \u001b[39mfor\u001b[39;00m attr \u001b[39min\u001b[39;00m [\u001b[39m\"\u001b[39m\u001b[39mdims\u001b[39m\u001b[39m\"\u001b[39m, \u001b[39m\"\u001b[39m\u001b[39mdata\u001b[39m\u001b[39m\"\u001b[39m, \u001b[39m\"\u001b[39m\u001b[39mshape\u001b[39m\u001b[39m\"\u001b[39m, \u001b[39m\"\u001b[39m\u001b[39mencoding\u001b[39m\u001b[39m\"\u001b[39m]):\n\u001b[1;32m   2986\u001b[0m         \u001b[39m# `other` satisfies the necessary Variable API for broadcast_variables\u001b[39;00m\n\u001b[1;32m   2987\u001b[0m         new_self, new_other \u001b[39m=\u001b[39m _broadcast_compat_variables(\u001b[39mself\u001b[39m, other)\n\u001b[1;32m   2988\u001b[0m         self_data \u001b[39m=\u001b[39m new_self\u001b[39m.\u001b[39mdata\n",
      "File \u001b[0;32m~/miniconda3/envs/iceroad/lib/python3.8/site-packages/xarray/core/variable.py:354\u001b[0m, in \u001b[0;36mVariable.data\u001b[0;34m(self)\u001b[0m\n\u001b[1;32m    352\u001b[0m     \u001b[39mreturn\u001b[39;00m \u001b[39mself\u001b[39m\u001b[39m.\u001b[39m_data\n\u001b[1;32m    353\u001b[0m \u001b[39melse\u001b[39;00m:\n\u001b[0;32m--> 354\u001b[0m     \u001b[39mreturn\u001b[39;00m \u001b[39mself\u001b[39;49m\u001b[39m.\u001b[39;49mvalues\n",
      "File \u001b[0;32m~/miniconda3/envs/iceroad/lib/python3.8/site-packages/xarray/core/variable.py:527\u001b[0m, in \u001b[0;36mVariable.values\u001b[0;34m(self)\u001b[0m\n\u001b[1;32m    524\u001b[0m \u001b[39m@property\u001b[39m\n\u001b[1;32m    525\u001b[0m \u001b[39mdef\u001b[39;00m \u001b[39mvalues\u001b[39m(\u001b[39mself\u001b[39m):\n\u001b[1;32m    526\u001b[0m     \u001b[39m\"\"\"The variable's data as a numpy.ndarray\"\"\"\u001b[39;00m\n\u001b[0;32m--> 527\u001b[0m     \u001b[39mreturn\u001b[39;00m _as_array_or_item(\u001b[39mself\u001b[39;49m\u001b[39m.\u001b[39;49m_data)\n",
      "File \u001b[0;32m~/miniconda3/envs/iceroad/lib/python3.8/site-packages/xarray/core/variable.py:267\u001b[0m, in \u001b[0;36m_as_array_or_item\u001b[0;34m(data)\u001b[0m\n\u001b[1;32m    253\u001b[0m \u001b[39mdef\u001b[39;00m \u001b[39m_as_array_or_item\u001b[39m(data):\n\u001b[1;32m    254\u001b[0m     \u001b[39m\"\"\"Return the given values as a numpy array, or as an individual item if\u001b[39;00m\n\u001b[1;32m    255\u001b[0m \u001b[39m    it's a 0d datetime64 or timedelta64 array.\u001b[39;00m\n\u001b[1;32m    256\u001b[0m \n\u001b[0;32m   (...)\u001b[0m\n\u001b[1;32m    265\u001b[0m \u001b[39m    TODO: remove this (replace with np.asarray) once these issues are fixed\u001b[39;00m\n\u001b[1;32m    266\u001b[0m \u001b[39m    \"\"\"\u001b[39;00m\n\u001b[0;32m--> 267\u001b[0m     data \u001b[39m=\u001b[39m np\u001b[39m.\u001b[39;49masarray(data)\n\u001b[1;32m    268\u001b[0m     \u001b[39mif\u001b[39;00m data\u001b[39m.\u001b[39mndim \u001b[39m==\u001b[39m \u001b[39m0\u001b[39m:\n\u001b[1;32m    269\u001b[0m         \u001b[39mif\u001b[39;00m data\u001b[39m.\u001b[39mdtype\u001b[39m.\u001b[39mkind \u001b[39m==\u001b[39m \u001b[39m\"\u001b[39m\u001b[39mM\u001b[39m\u001b[39m\"\u001b[39m:\n",
      "File \u001b[0;32m~/miniconda3/envs/iceroad/lib/python3.8/site-packages/xarray/core/indexing.py:653\u001b[0m, in \u001b[0;36mMemoryCachedArray.__array__\u001b[0;34m(self, dtype)\u001b[0m\n\u001b[1;32m    652\u001b[0m \u001b[39mdef\u001b[39;00m \u001b[39m__array__\u001b[39m(\u001b[39mself\u001b[39m, dtype\u001b[39m=\u001b[39m\u001b[39mNone\u001b[39;00m):\n\u001b[0;32m--> 653\u001b[0m     \u001b[39mself\u001b[39;49m\u001b[39m.\u001b[39;49m_ensure_cached()\n\u001b[1;32m    654\u001b[0m     \u001b[39mreturn\u001b[39;00m np\u001b[39m.\u001b[39masarray(\u001b[39mself\u001b[39m\u001b[39m.\u001b[39marray, dtype\u001b[39m=\u001b[39mdtype)\n",
      "File \u001b[0;32m~/miniconda3/envs/iceroad/lib/python3.8/site-packages/xarray/core/indexing.py:650\u001b[0m, in \u001b[0;36mMemoryCachedArray._ensure_cached\u001b[0;34m(self)\u001b[0m\n\u001b[1;32m    648\u001b[0m \u001b[39mdef\u001b[39;00m \u001b[39m_ensure_cached\u001b[39m(\u001b[39mself\u001b[39m):\n\u001b[1;32m    649\u001b[0m     \u001b[39mif\u001b[39;00m \u001b[39mnot\u001b[39;00m \u001b[39misinstance\u001b[39m(\u001b[39mself\u001b[39m\u001b[39m.\u001b[39marray, NumpyIndexingAdapter):\n\u001b[0;32m--> 650\u001b[0m         \u001b[39mself\u001b[39m\u001b[39m.\u001b[39marray \u001b[39m=\u001b[39m NumpyIndexingAdapter(np\u001b[39m.\u001b[39;49masarray(\u001b[39mself\u001b[39;49m\u001b[39m.\u001b[39;49marray))\n",
      "File \u001b[0;32m~/miniconda3/envs/iceroad/lib/python3.8/site-packages/xarray/core/indexing.py:623\u001b[0m, in \u001b[0;36mCopyOnWriteArray.__array__\u001b[0;34m(self, dtype)\u001b[0m\n\u001b[1;32m    622\u001b[0m \u001b[39mdef\u001b[39;00m \u001b[39m__array__\u001b[39m(\u001b[39mself\u001b[39m, dtype\u001b[39m=\u001b[39m\u001b[39mNone\u001b[39;00m):\n\u001b[0;32m--> 623\u001b[0m     \u001b[39mreturn\u001b[39;00m np\u001b[39m.\u001b[39;49masarray(\u001b[39mself\u001b[39;49m\u001b[39m.\u001b[39;49marray, dtype\u001b[39m=\u001b[39;49mdtype)\n",
      "File \u001b[0;32m~/miniconda3/envs/iceroad/lib/python3.8/site-packages/xarray/core/indexing.py:524\u001b[0m, in \u001b[0;36mLazilyIndexedArray.__array__\u001b[0;34m(self, dtype)\u001b[0m\n\u001b[1;32m    522\u001b[0m \u001b[39mdef\u001b[39;00m \u001b[39m__array__\u001b[39m(\u001b[39mself\u001b[39m, dtype\u001b[39m=\u001b[39m\u001b[39mNone\u001b[39;00m):\n\u001b[1;32m    523\u001b[0m     array \u001b[39m=\u001b[39m as_indexable(\u001b[39mself\u001b[39m\u001b[39m.\u001b[39marray)\n\u001b[0;32m--> 524\u001b[0m     \u001b[39mreturn\u001b[39;00m np\u001b[39m.\u001b[39masarray(array[\u001b[39mself\u001b[39;49m\u001b[39m.\u001b[39;49mkey], dtype\u001b[39m=\u001b[39m\u001b[39mNone\u001b[39;00m)\n",
      "File \u001b[0;32m~/miniconda3/envs/iceroad/lib/python3.8/site-packages/rioxarray/_io.py:304\u001b[0m, in \u001b[0;36mRasterioArrayWrapper.__getitem__\u001b[0;34m(self, key)\u001b[0m\n\u001b[1;32m    303\u001b[0m \u001b[39mdef\u001b[39;00m \u001b[39m__getitem__\u001b[39m(\u001b[39mself\u001b[39m, key):\n\u001b[0;32m--> 304\u001b[0m     \u001b[39mreturn\u001b[39;00m indexing\u001b[39m.\u001b[39;49mexplicit_indexing_adapter(\n\u001b[1;32m    305\u001b[0m         key, \u001b[39mself\u001b[39;49m\u001b[39m.\u001b[39;49mshape, indexing\u001b[39m.\u001b[39;49mIndexingSupport\u001b[39m.\u001b[39;49mOUTER, \u001b[39mself\u001b[39;49m\u001b[39m.\u001b[39;49m_getitem\n\u001b[1;32m    306\u001b[0m     )\n",
      "File \u001b[0;32m~/miniconda3/envs/iceroad/lib/python3.8/site-packages/xarray/core/indexing.py:815\u001b[0m, in \u001b[0;36mexplicit_indexing_adapter\u001b[0;34m(key, shape, indexing_support, raw_indexing_method)\u001b[0m\n\u001b[1;32m    793\u001b[0m \u001b[39m\"\"\"Support explicit indexing by delegating to a raw indexing method.\u001b[39;00m\n\u001b[1;32m    794\u001b[0m \n\u001b[1;32m    795\u001b[0m \u001b[39mOuter and/or vectorized indexers are supported by indexing a second time\u001b[39;00m\n\u001b[0;32m   (...)\u001b[0m\n\u001b[1;32m    812\u001b[0m \u001b[39mIndexing result, in the form of a duck numpy-array.\u001b[39;00m\n\u001b[1;32m    813\u001b[0m \u001b[39m\"\"\"\u001b[39;00m\n\u001b[1;32m    814\u001b[0m raw_key, numpy_indices \u001b[39m=\u001b[39m decompose_indexer(key, shape, indexing_support)\n\u001b[0;32m--> 815\u001b[0m result \u001b[39m=\u001b[39m raw_indexing_method(raw_key\u001b[39m.\u001b[39;49mtuple)\n\u001b[1;32m    816\u001b[0m \u001b[39mif\u001b[39;00m numpy_indices\u001b[39m.\u001b[39mtuple:\n\u001b[1;32m    817\u001b[0m     \u001b[39m# index the loaded np.ndarray\u001b[39;00m\n\u001b[1;32m    818\u001b[0m     result \u001b[39m=\u001b[39m NumpyIndexingAdapter(np\u001b[39m.\u001b[39masarray(result))[numpy_indices]\n",
      "File \u001b[0;32m~/miniconda3/envs/iceroad/lib/python3.8/site-packages/rioxarray/_io.py:279\u001b[0m, in \u001b[0;36mRasterioArrayWrapper._getitem\u001b[0;34m(self, key)\u001b[0m\n\u001b[1;32m    278\u001b[0m \u001b[39mdef\u001b[39;00m \u001b[39m_getitem\u001b[39m(\u001b[39mself\u001b[39m, key):\n\u001b[0;32m--> 279\u001b[0m     band_key, window, squeeze_axis, np_inds \u001b[39m=\u001b[39m \u001b[39mself\u001b[39;49m\u001b[39m.\u001b[39;49m_get_indexer(key)\n\u001b[1;32m    281\u001b[0m     \u001b[39mif\u001b[39;00m \u001b[39mnot\u001b[39;00m band_key \u001b[39mor\u001b[39;00m \u001b[39many\u001b[39m(start \u001b[39m==\u001b[39m stop \u001b[39mfor\u001b[39;00m (start, stop) \u001b[39min\u001b[39;00m window):\n\u001b[1;32m    282\u001b[0m         \u001b[39m# no need to do IO\u001b[39;00m\n\u001b[1;32m    283\u001b[0m         shape \u001b[39m=\u001b[39m (\u001b[39mlen\u001b[39m(band_key),) \u001b[39m+\u001b[39m \u001b[39mtuple\u001b[39m(stop \u001b[39m-\u001b[39m start \u001b[39mfor\u001b[39;00m (start, stop) \u001b[39min\u001b[39;00m window)\n",
      "File \u001b[0;32m~/miniconda3/envs/iceroad/lib/python3.8/site-packages/rioxarray/_io.py:268\u001b[0m, in \u001b[0;36mRasterioArrayWrapper._get_indexer\u001b[0;34m(self, key)\u001b[0m\n\u001b[1;32m    266\u001b[0m     stop \u001b[39m=\u001b[39m ikey \u001b[39m+\u001b[39m \u001b[39m1\u001b[39m\n\u001b[1;32m    267\u001b[0m \u001b[39melse\u001b[39;00m:\n\u001b[0;32m--> 268\u001b[0m     start, stop \u001b[39m=\u001b[39m np\u001b[39m.\u001b[39;49mmin(ikey), np\u001b[39m.\u001b[39mmax(ikey) \u001b[39m+\u001b[39m \u001b[39m1\u001b[39m\n\u001b[1;32m    269\u001b[0m     np_inds\u001b[39m.\u001b[39mappend(ikey \u001b[39m-\u001b[39m start)\n\u001b[1;32m    270\u001b[0m window\u001b[39m.\u001b[39mappend((start, stop))\n",
      "File \u001b[0;32m<__array_function__ internals>:180\u001b[0m, in \u001b[0;36mamin\u001b[0;34m(*args, **kwargs)\u001b[0m\n",
      "File \u001b[0;32m~/miniconda3/envs/iceroad/lib/python3.8/site-packages/numpy/core/fromnumeric.py:2918\u001b[0m, in \u001b[0;36mamin\u001b[0;34m(a, axis, out, keepdims, initial, where)\u001b[0m\n\u001b[1;32m   2802\u001b[0m \u001b[39m@array_function_dispatch\u001b[39m(_amin_dispatcher)\n\u001b[1;32m   2803\u001b[0m \u001b[39mdef\u001b[39;00m \u001b[39mamin\u001b[39m(a, axis\u001b[39m=\u001b[39m\u001b[39mNone\u001b[39;00m, out\u001b[39m=\u001b[39m\u001b[39mNone\u001b[39;00m, keepdims\u001b[39m=\u001b[39mnp\u001b[39m.\u001b[39m_NoValue, initial\u001b[39m=\u001b[39mnp\u001b[39m.\u001b[39m_NoValue,\n\u001b[1;32m   2804\u001b[0m          where\u001b[39m=\u001b[39mnp\u001b[39m.\u001b[39m_NoValue):\n\u001b[1;32m   2805\u001b[0m     \u001b[39m\"\"\"\u001b[39;00m\n\u001b[1;32m   2806\u001b[0m \u001b[39m    Return the minimum of an array or minimum along an axis.\u001b[39;00m\n\u001b[1;32m   2807\u001b[0m \n\u001b[0;32m   (...)\u001b[0m\n\u001b[1;32m   2916\u001b[0m \u001b[39m    6\u001b[39;00m\n\u001b[1;32m   2917\u001b[0m \u001b[39m    \"\"\"\u001b[39;00m\n\u001b[0;32m-> 2918\u001b[0m     \u001b[39mreturn\u001b[39;00m _wrapreduction(a, np\u001b[39m.\u001b[39;49mminimum, \u001b[39m'\u001b[39;49m\u001b[39mmin\u001b[39;49m\u001b[39m'\u001b[39;49m, axis, \u001b[39mNone\u001b[39;49;00m, out,\n\u001b[1;32m   2919\u001b[0m                           keepdims\u001b[39m=\u001b[39;49mkeepdims, initial\u001b[39m=\u001b[39;49minitial, where\u001b[39m=\u001b[39;49mwhere)\n",
      "File \u001b[0;32m~/miniconda3/envs/iceroad/lib/python3.8/site-packages/numpy/core/fromnumeric.py:86\u001b[0m, in \u001b[0;36m_wrapreduction\u001b[0;34m(obj, ufunc, method, axis, dtype, out, **kwargs)\u001b[0m\n\u001b[1;32m     83\u001b[0m         \u001b[39melse\u001b[39;00m:\n\u001b[1;32m     84\u001b[0m             \u001b[39mreturn\u001b[39;00m reduction(axis\u001b[39m=\u001b[39maxis, out\u001b[39m=\u001b[39mout, \u001b[39m*\u001b[39m\u001b[39m*\u001b[39mpasskwargs)\n\u001b[0;32m---> 86\u001b[0m \u001b[39mreturn\u001b[39;00m ufunc\u001b[39m.\u001b[39;49mreduce(obj, axis, dtype, out, \u001b[39m*\u001b[39;49m\u001b[39m*\u001b[39;49mpasskwargs)\n",
      "\u001b[0;31mValueError\u001b[0m: zero-size array to reduction operation minimum which has no identity"
     ]
    }
   ],
   "source": [
    "dem = rxa.open_rasterio('/home/zacharykeskinen/Documents/ice-road-copters/data/results/dem.tif')\n",
    "diff = res - dem\n",
    "diff.plot(vmin = 1500, vmax = 2000)"
   ]
  }
 ],
 "metadata": {
  "kernelspec": {
   "display_name": "Python 3.8.13 ('iceroad')",
   "language": "python",
   "name": "python3"
  },
  "language_info": {
   "codemirror_mode": {
    "name": "ipython",
    "version": 3
   },
   "file_extension": ".py",
   "mimetype": "text/x-python",
   "name": "python",
   "nbconvert_exporter": "python",
   "pygments_lexer": "ipython3",
   "version": "3.8.13"
  },
  "orig_nbformat": 4,
  "vscode": {
   "interpreter": {
    "hash": "14aac5828947b75d97bfce66d0ff9606be49ebe3317095af148ca98ecf57d790"
   }
  }
 },
 "nbformat": 4,
 "nbformat_minor": 2
}
