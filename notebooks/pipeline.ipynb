{
 "cells": [
  {
   "cell_type": "markdown",
   "metadata": {},
   "source": [
    "## Create Snow-On DEM with JSON Pipeline using PDAL"
   ]
  },
  {
   "cell_type": "markdown",
   "metadata": {},
   "source": [
    "## Import Libraries"
   ]
  },
  {
   "cell_type": "code",
   "execution_count": null,
   "metadata": {},
   "outputs": [],
   "source": [
    "import numpy as np\n",
    "import pdal\n",
    "import json\n",
    "import laspy\n",
    "import open3d as o3d\n",
    "import os\n",
    "import matplotlib.pyplot as plt\n",
    "import rioxarray as rxa\n",
    "from os.path import join, basename, exists, dirname, abspath\n",
    "from glob import glob\n",
    "import geopandas as gpd\n",
    "import fiona\n",
    "from zipfile import ZipFile\n",
    "import shlex\n",
    "import subprocess\n",
    "import py3dep\n",
    "from shapely.geometry import box\n",
    "import pyproj\n",
    "from shapely.geometry import Point\n",
    "from shapely.ops import transform\n",
    "import contextily as cx"
   ]
  },
  {
   "cell_type": "markdown",
   "metadata": {},
   "source": [
    "## Define Functions\n",
    "Right now we only have one to do command line calls. Probably can be put into a seperate functions script and imported if we want to clean this up."
   ]
  },
  {
   "cell_type": "code",
   "execution_count": null,
   "metadata": {},
   "outputs": [],
   "source": [
    "def cl_call(commamd):\n",
    "    process = subprocess.Popen(commamd, \n",
    "                           stdout=subprocess.PIPE,\n",
    "                           universal_newlines=True)\n",
    "\n",
    "    while True:\n",
    "        output = process.stdout.readline()\n",
    "        print(output.strip())\n",
    "        # Do something else\n",
    "        return_code = process.poll()\n",
    "        if return_code is not None:\n",
    "            print('RETURN CODE', return_code)\n",
    "            # Process has finished, read rest of the output \n",
    "            for output in process.stdout.readlines():\n",
    "                print(output.strip())\n",
    "            break"
   ]
  },
  {
   "cell_type": "markdown",
   "metadata": {},
   "source": [
    "## Capture filepaths for .laz and .kmz\n",
    "\n",
    "test_dir = directory name. We can iterate over this variable in future full runs to do all the lidar processing with one function"
   ]
  },
  {
   "cell_type": "code",
   "execution_count": null,
   "metadata": {},
   "outputs": [],
   "source": [
    "test_dir = abspath('../test/09_EXPORT')\n",
    "laz_fps = glob(join(test_dir,'*.laz'))\n",
    "kmz_fp = glob(join(test_dir,'*.kmz'))[0]"
   ]
  },
  {
   "cell_type": "markdown",
   "metadata": {},
   "source": [
    "## Extract and visualize helicopter flight path (not neccessary for lidar processing)"
   ]
  },
  {
   "cell_type": "code",
   "execution_count": null,
   "metadata": {},
   "outputs": [],
   "source": [
    "with ZipFile(kmz_fp, 'r') as kmz:\n",
    "    kml_fps = kmz.namelist()\n",
    "    kmz.extractall(test_dir)\n",
    "kml_fp = [fp for fp in kml_fps if fp.endswith('kml')][0]\n",
    "my_map = gpd.read_file(join(test_dir, kml_fp), driver='KML')\n",
    "my_map[::1000].explore()"
   ]
  },
  {
   "cell_type": "markdown",
   "metadata": {},
   "source": [
    "## Mosaicing all LAZ files to one\n",
    "Tried Las2las - really didn't work. Pdal merge seems to be working (based on file size alone)"
   ]
  },
  {
   "cell_type": "code",
   "execution_count": null,
   "metadata": {},
   "outputs": [],
   "source": [
    "join(test_dir, '*.laz')\n"
   ]
  },
  {
   "cell_type": "code",
   "execution_count": null,
   "metadata": {},
   "outputs": [],
   "source": [
    "test_dir"
   ]
  },
  {
   "cell_type": "code",
   "execution_count": null,
   "metadata": {},
   "outputs": [],
   "source": [
    "' '.join(glob(join(test_dir, '*.laz')))"
   ]
  },
  {
   "cell_type": "code",
   "execution_count": null,
   "metadata": {},
   "outputs": [],
   "source": [
    "las_prefix = '20220215'\n",
    "test_dir = '/Users/zachkeskinen/Documents/ice-road-copters/test/Subset'\n",
    "in_str = ' '.join(glob(join(test_dir, '*.laz')))\n",
    "mosaic_fp = join(test_dir, 'merge.laz')\n",
    "mosaic_cmd = f'pdal merge {in_str} {mosaic_fp}'\n",
    "mosaic_cmd = shlex.split(mosaic_cmd)\n",
    "print(mosaic_cmd)\n",
    "cl_call(mosaic_cmd)"
   ]
  },
  {
   "cell_type": "markdown",
   "metadata": {},
   "source": [
    "## Download DEM for dem filtering step\n",
    "\n",
    "Needs to be projected into the right CRS (got from las files)"
   ]
  },
  {
   "cell_type": "code",
   "execution_count": null,
   "metadata": {},
   "outputs": [],
   "source": [
    "import laspy\n",
    "\n",
    "with laspy.open(mosaic_fp) as data:\n",
    "     hdr = data.header\n",
    "     crs = hdr.parse_crs()\n",
    "wgs84 = pyproj.CRS('EPSG:4326')\n",
    "utm_bounds = box(hdr.mins[0], hdr.mins[1], hdr.maxs[0], hdr.maxs[1])\n",
    "project = pyproj.Transformer.from_crs(crs, wgs84 , always_xy=True).transform\n",
    "wgs84_bounds = transform(project, utm_bounds)\n",
    "dem_wgs = py3dep.get_map('DEM', wgs84_bounds, resolution = 1, crs = 'epsg:4326')\n",
    "dem_utm = dem_wgs.rio.reproject(crs)\n",
    "dem_fp = join('/Users/zachkeskinen/Documents/ice-road-copters/test/dems','full.tif')\n",
    "dem_utm.rio.to_raster(dem_fp)\n",
    "print(crs)\n",
    "print(crs.ellipsoid)"
   ]
  },
  {
   "cell_type": "markdown",
   "metadata": {},
   "source": [
    "## Generate outfile names for JSON\n",
    "\n",
    "can also be used with:\n",
    "- --readers.las.filename=str(out_fp)\n",
    "- --writers.las.filename=str(join(test_dir, 'out.laz'))\n",
    "- --writers.gdal.filename=str(join(test_dir, 'out.tif'))"
   ]
  },
  {
   "cell_type": "code",
   "execution_count": null,
   "metadata": {},
   "outputs": [],
   "source": [
    "mosaic_fp = join(test_dir, 'merge.laz')\n",
    "outlas = str(join(test_dir, 'outv3.laz'))\n",
    "outtif = str(join(test_dir, 'outv3.tif'))\n",
    "json_dir = './jsons'\n",
    "run_number = 1\n",
    "run_name = 'testing'\n",
    "json_to_use = './jsons/las2dem-dom.json'"
   ]
  },
  {
   "cell_type": "markdown",
   "metadata": {},
   "source": [
    "## Create JSON"
   ]
  },
  {
   "cell_type": "code",
   "execution_count": null,
   "metadata": {},
   "outputs": [],
   "source": [
    "import json\n",
    "# good docs on types of filters used: https://pdal.io/stages/filters.html#ground-unclassified\n",
    "# Reads in mosaiced las file\n",
    "reader = {\"type\": \"readers.las\", \"filename\": mosaic_fp}\n",
    "\n",
    "# Filters out points with 0 returns\n",
    "mongo_filter = {\"type\": \"filters.mongo\",\\\n",
    "    \"expression\": {\"$and\": [\\\n",
    "        {\"ReturnNumber\": {\"$gt\": 0}},\\\n",
    "             {\"NumberOfReturns\": {\"$gt\": 0}} ] } }\n",
    "# Filter out points far away from our dem\n",
    "dem_filter = {\n",
    "        \"type\":\"filters.dem\",\n",
    "        \"raster\":dem_fp,\n",
    "        \"limits\":\"Z[25:35]\"\n",
    "    }\n",
    "# Extended Local Minimum filter ()\n",
    "elm_filter = {\"type\": \"filters.elm\"}\n",
    "\n",
    "outlier_filter = {\"type\": \"filters.outlier\",\\\n",
    "    \"method\": \"statistical\",\\\n",
    "        \"mean_k\": 12,\\\n",
    "            \"multiplier\": 2.2}\n",
    "\n",
    "smrf_classifier = {\"type\": \"filters.smrf\",\\\n",
    "    \"ignore\": \"Classification[7:7], NumberOfReturns[0:0], ReturnNumber[0:0]\"}\n",
    "\n",
    "smrf_selecter = { \n",
    "        \"type\":\"filters.range\",\n",
    "        \"limits\":\"Classification[2:2]\"\n",
    "    }\n",
    "\n",
    "las_writer = {\"type\": \"writers.las\",\\\n",
    "#     \"where\": \"Classification[2:2]\",\\\n",
    "        \"filename\":outlas}\n",
    "\n",
    "tif_writer = {\"type\": \"writers.gdal\",\\\n",
    "#     \"where\": \"Classification[2:2]\",\\\n",
    "        \"filename\":outtif,\n",
    "        \"resolution\":1.0,\n",
    "        \"output_type\":\"idw\"}\n",
    "\n",
    "pipeline = [reader, mongo_filter, dem_filter, elm_filter, outlier_filter, smrf_classifier,smrf_selecter, las_writer, tif_writer]\n",
    "\n",
    "os.makedirs(json_dir, exist_ok= True)\n",
    "json_to_use = join(json_dir, f'{run_name}-r{run_number}.json')\n",
    "with open(json_to_use,'w') as outfile:\n",
    "    json.dump(pipeline, outfile, indent = 2)"
   ]
  },
  {
   "cell_type": "markdown",
   "metadata": {},
   "source": [
    "## Running JSON Pipeline"
   ]
  },
  {
   "cell_type": "code",
   "execution_count": null,
   "metadata": {},
   "outputs": [],
   "source": [
    "# pipeline_cmd = f'pdal pipeline -i {json_to_use} --readers.las.filename=\"{mosaic_fp}\" --writers.las.filename={outlas} --writers.gdal.filename={outtif} -v 8'\n",
    "pipeline_cmd = f'pdal pipeline -i {json_to_use} --readers.las.filename=\"{laz_fps[6]}\" -v 8'\n",
    "pipeline_cmd = shlex.split(pipeline_cmd)\n",
    "print(pipeline_cmd)\n",
    "cl_call(pipeline_cmd)"
   ]
  },
  {
   "cell_type": "markdown",
   "metadata": {},
   "source": [
    "## Visualization\n",
    "\n",
    "o3d visualization is awesome but seems to kill my kernel everytime when I try and close the window. \n",
    "\n",
    "Rioxarray visualization seems safer for quick checks"
   ]
  },
  {
   "cell_type": "code",
   "execution_count": null,
   "metadata": {},
   "outputs": [],
   "source": [
    "import numpy as np\n",
    "import pdal\n",
    "import json\n",
    "import laspy\n",
    "import open3d as o3d\n",
    "import os\n",
    "import matplotlib.pyplot as plt\n",
    "import rioxarray as rxa\n",
    "from os.path import join, basename, exists, dirname, abspath\n",
    "from glob import glob\n",
    "import geopandas as gpd\n",
    "import fiona\n",
    "from zipfile import ZipFile\n",
    "import shlex\n",
    "import subprocess\n",
    "import py3dep\n",
    "from shapely.geometry import box\n",
    "import pyproj\n",
    "from shapely.geometry import Point\n",
    "from shapely.ops import transform\n",
    "import contextily as cx"
   ]
  },
  {
   "cell_type": "code",
   "execution_count": null,
   "metadata": {},
   "outputs": [],
   "source": [
    "import laspy\n",
    "import numpy as np\n",
    "PC = laspy.read('/Users/zachkeskinen/Documents/ice-road-copters/test/mcs-subset/ice-road/results/clipped_PC.laz')\n",
    "\n",
    "points = np.vstack((PC.X, PC.Y, PC.Z)).transpose()\n",
    "\n",
    "cloud = o3d.geometry.PointCloud()\n",
    "cloud.points = o3d.utility.Vector3dVector(points)\n",
    "#pcd.colors = o3d.utility.Vector3dVector(colors/65535)\n",
    "#pcd.normals = o3d.utility.Vector3dVector(normals)0\n",
    "o3d.visualization.draw_geometries([cloud])"
   ]
  },
  {
   "cell_type": "code",
   "execution_count": null,
   "metadata": {},
   "outputs": [],
   "source": []
  }
 ],
 "metadata": {
  "kernelspec": {
   "display_name": "Python 3.8.13 ('heli')",
   "language": "python",
   "name": "python3"
  },
  "language_info": {
   "codemirror_mode": {
    "name": "ipython",
    "version": 3
   },
   "file_extension": ".py",
   "mimetype": "text/x-python",
   "name": "python",
   "nbconvert_exporter": "python",
   "pygments_lexer": "ipython3",
   "version": "3.8.13"
  },
  "vscode": {
   "interpreter": {
    "hash": "b38bf96d929ed892a854a240f79fc97050674deef20950d0719a1a6703ca0f3a"
   }
  }
 },
 "nbformat": 4,
 "nbformat_minor": 2
}
