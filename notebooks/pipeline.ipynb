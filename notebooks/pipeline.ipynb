{
 "cells": [
  {
   "cell_type": "markdown",
   "metadata": {},
   "source": [
    "## Create Snow-On DEM with JSON Pipeline using PDAL"
   ]
  },
  {
   "cell_type": "markdown",
   "metadata": {},
   "source": [
    "## Import Libraries"
   ]
  },
  {
   "cell_type": "code",
   "execution_count": 8,
   "metadata": {},
   "outputs": [],
   "source": [
    "import numpy as np\n",
    "import pdal\n",
    "import json\n",
    "import laspy\n",
    "import open3d as o3d\n",
    "import os\n",
    "import matplotlib.pyplot as plt\n",
    "import rioxarray as rxa\n",
    "from os.path import join, basename, exists, dirname, abspath\n",
    "from glob import glob\n",
    "import geopandas as gpd\n",
    "import fiona\n",
    "from zipfile import ZipFile\n",
    "import shlex\n",
    "import subprocess\n",
    "import py3dep\n",
    "from shapely.geometry import box\n",
    "import pyproj\n",
    "from shapely.geometry import Point\n",
    "from shapely.ops import transform\n",
    "import contextily as cx"
   ]
  },
  {
   "cell_type": "markdown",
   "metadata": {},
   "source": [
    "## Define Functions\n",
    "Right now we only have one to do command line calls. Probably can be put into a seperate functions script and imported if we want to clean this up."
   ]
  },
  {
   "cell_type": "code",
   "execution_count": 2,
   "metadata": {},
   "outputs": [],
   "source": [
    "def cl_call(commamd):\n",
    "    process = subprocess.Popen(commamd, \n",
    "                           stdout=subprocess.PIPE,\n",
    "                           universal_newlines=True)\n",
    "\n",
    "    while True:\n",
    "        output = process.stdout.readline()\n",
    "        print(output.strip())\n",
    "        # Do something else\n",
    "        return_code = process.poll()\n",
    "        if return_code is not None:\n",
    "            print('RETURN CODE', return_code)\n",
    "            # Process has finished, read rest of the output \n",
    "            for output in process.stdout.readlines():\n",
    "                print(output.strip())\n",
    "            break"
   ]
  },
  {
   "cell_type": "markdown",
   "metadata": {},
   "source": [
    "## Capture filepaths for .laz and .kmz\n",
    "\n",
    "test_dir = directory name. We can iterate over this variable in future full runs to do all the lidar processing with one function"
   ]
  },
  {
   "cell_type": "code",
   "execution_count": 9,
   "metadata": {},
   "outputs": [],
   "source": [
    "test_dir = abspath('../test/09_EXPORT')\n",
    "laz_fps = glob(join(test_dir,'*.laz'))[:2]\n",
    "kmz_fp = glob(join(test_dir,'*.kmz'))[0]"
   ]
  },
  {
   "cell_type": "markdown",
   "metadata": {},
   "source": [
    "## Extract and visualize helicopter flight path (not neccessary for lidar processing)"
   ]
  },
  {
   "cell_type": "code",
   "execution_count": 4,
   "metadata": {},
   "outputs": [
    {
     "ename": "DriverError",
     "evalue": "unsupported driver: 'KML'",
     "output_type": "error",
     "traceback": [
      "\u001b[0;31m---------------------------------------------------------------------------\u001b[0m",
      "\u001b[0;31mDriverError\u001b[0m                               Traceback (most recent call last)",
      "\u001b[1;32m/Users/zachkeskinen/Documents/ice-road-copters/notebooks/pipeline.ipynb Cell 9\u001b[0m in \u001b[0;36m<cell line: 5>\u001b[0;34m()\u001b[0m\n\u001b[1;32m      <a href='vscode-notebook-cell:/Users/zachkeskinen/Documents/ice-road-copters/notebooks/pipeline.ipynb#ch0000008?line=2'>3</a>\u001b[0m     kmz\u001b[39m.\u001b[39mextractall(test_dir)\n\u001b[1;32m      <a href='vscode-notebook-cell:/Users/zachkeskinen/Documents/ice-road-copters/notebooks/pipeline.ipynb#ch0000008?line=3'>4</a>\u001b[0m kml_fp \u001b[39m=\u001b[39m [fp \u001b[39mfor\u001b[39;00m fp \u001b[39min\u001b[39;00m kml_fps \u001b[39mif\u001b[39;00m fp\u001b[39m.\u001b[39mendswith(\u001b[39m'\u001b[39m\u001b[39mkml\u001b[39m\u001b[39m'\u001b[39m)][\u001b[39m0\u001b[39m]\n\u001b[0;32m----> <a href='vscode-notebook-cell:/Users/zachkeskinen/Documents/ice-road-copters/notebooks/pipeline.ipynb#ch0000008?line=4'>5</a>\u001b[0m my_map \u001b[39m=\u001b[39m gpd\u001b[39m.\u001b[39;49mread_file(join(test_dir, kml_fp), driver\u001b[39m=\u001b[39;49m\u001b[39m'\u001b[39;49m\u001b[39mKML\u001b[39;49m\u001b[39m'\u001b[39;49m)\n\u001b[1;32m      <a href='vscode-notebook-cell:/Users/zachkeskinen/Documents/ice-road-copters/notebooks/pipeline.ipynb#ch0000008?line=5'>6</a>\u001b[0m my_map[::\u001b[39m1000\u001b[39m]\u001b[39m.\u001b[39mexplore()\n",
      "File \u001b[0;32m~/miniconda3/envs/heli/lib/python3.8/site-packages/geopandas/io/file.py:253\u001b[0m, in \u001b[0;36m_read_file\u001b[0;34m(filename, bbox, mask, rows, engine, **kwargs)\u001b[0m\n\u001b[1;32m    250\u001b[0m     path_or_bytes \u001b[39m=\u001b[39m filename\n\u001b[1;32m    252\u001b[0m \u001b[39mif\u001b[39;00m engine \u001b[39m==\u001b[39m \u001b[39m\"\u001b[39m\u001b[39mfiona\u001b[39m\u001b[39m\"\u001b[39m:\n\u001b[0;32m--> 253\u001b[0m     \u001b[39mreturn\u001b[39;00m _read_file_fiona(\n\u001b[1;32m    254\u001b[0m         path_or_bytes, from_bytes, bbox\u001b[39m=\u001b[39;49mbbox, mask\u001b[39m=\u001b[39;49mmask, rows\u001b[39m=\u001b[39;49mrows, \u001b[39m*\u001b[39;49m\u001b[39m*\u001b[39;49mkwargs\n\u001b[1;32m    255\u001b[0m     )\n\u001b[1;32m    256\u001b[0m \u001b[39melif\u001b[39;00m engine \u001b[39m==\u001b[39m \u001b[39m\"\u001b[39m\u001b[39mpyogrio\u001b[39m\u001b[39m\"\u001b[39m:\n\u001b[1;32m    257\u001b[0m     \u001b[39mreturn\u001b[39;00m _read_file_pyogrio(\n\u001b[1;32m    258\u001b[0m         path_or_bytes, bbox\u001b[39m=\u001b[39mbbox, mask\u001b[39m=\u001b[39mmask, rows\u001b[39m=\u001b[39mrows, \u001b[39m*\u001b[39m\u001b[39m*\u001b[39mkwargs\n\u001b[1;32m    259\u001b[0m     )\n",
      "File \u001b[0;32m~/miniconda3/envs/heli/lib/python3.8/site-packages/geopandas/io/file.py:294\u001b[0m, in \u001b[0;36m_read_file_fiona\u001b[0;34m(path_or_bytes, from_bytes, bbox, mask, rows, **kwargs)\u001b[0m\n\u001b[1;32m    291\u001b[0m     reader \u001b[39m=\u001b[39m fiona\u001b[39m.\u001b[39mopen\n\u001b[1;32m    293\u001b[0m \u001b[39mwith\u001b[39;00m fiona_env():\n\u001b[0;32m--> 294\u001b[0m     \u001b[39mwith\u001b[39;00m reader(path_or_bytes, \u001b[39m*\u001b[39;49m\u001b[39m*\u001b[39;49mkwargs) \u001b[39mas\u001b[39;00m features:\n\u001b[1;32m    295\u001b[0m \n\u001b[1;32m    296\u001b[0m         \u001b[39m# In a future Fiona release the crs attribute of features will\u001b[39;00m\n\u001b[1;32m    297\u001b[0m         \u001b[39m# no longer be a dict, but will behave like a dict. So this should\u001b[39;00m\n\u001b[1;32m    298\u001b[0m         \u001b[39m# be forwards compatible\u001b[39;00m\n\u001b[1;32m    299\u001b[0m         crs \u001b[39m=\u001b[39m (\n\u001b[1;32m    300\u001b[0m             features\u001b[39m.\u001b[39mcrs[\u001b[39m\"\u001b[39m\u001b[39minit\u001b[39m\u001b[39m\"\u001b[39m]\n\u001b[1;32m    301\u001b[0m             \u001b[39mif\u001b[39;00m features\u001b[39m.\u001b[39mcrs \u001b[39mand\u001b[39;00m \u001b[39m\"\u001b[39m\u001b[39minit\u001b[39m\u001b[39m\"\u001b[39m \u001b[39min\u001b[39;00m features\u001b[39m.\u001b[39mcrs\n\u001b[1;32m    302\u001b[0m             \u001b[39melse\u001b[39;00m features\u001b[39m.\u001b[39mcrs_wkt\n\u001b[1;32m    303\u001b[0m         )\n\u001b[1;32m    305\u001b[0m         \u001b[39m# handle loading the bounding box\u001b[39;00m\n",
      "File \u001b[0;32m~/miniconda3/envs/heli/lib/python3.8/site-packages/fiona/env.py:408\u001b[0m, in \u001b[0;36mensure_env_with_credentials.<locals>.wrapper\u001b[0;34m(*args, **kwargs)\u001b[0m\n\u001b[1;32m    405\u001b[0m \u001b[39m@wraps\u001b[39m(f)\n\u001b[1;32m    406\u001b[0m \u001b[39mdef\u001b[39;00m \u001b[39mwrapper\u001b[39m(\u001b[39m*\u001b[39margs, \u001b[39m*\u001b[39m\u001b[39m*\u001b[39mkwargs):\n\u001b[1;32m    407\u001b[0m     \u001b[39mif\u001b[39;00m local\u001b[39m.\u001b[39m_env:\n\u001b[0;32m--> 408\u001b[0m         \u001b[39mreturn\u001b[39;00m f(\u001b[39m*\u001b[39;49margs, \u001b[39m*\u001b[39;49m\u001b[39m*\u001b[39;49mkwargs)\n\u001b[1;32m    409\u001b[0m     \u001b[39melse\u001b[39;00m:\n\u001b[1;32m    410\u001b[0m         \u001b[39mif\u001b[39;00m \u001b[39misinstance\u001b[39m(args[\u001b[39m0\u001b[39m], \u001b[39mstr\u001b[39m):\n",
      "File \u001b[0;32m~/miniconda3/envs/heli/lib/python3.8/site-packages/fiona/__init__.py:264\u001b[0m, in \u001b[0;36mopen\u001b[0;34m(fp, mode, driver, schema, crs, encoding, layer, vfs, enabled_drivers, crs_wkt, **kwargs)\u001b[0m\n\u001b[1;32m    261\u001b[0m     path \u001b[39m=\u001b[39m parse_path(fp)\n\u001b[1;32m    263\u001b[0m \u001b[39mif\u001b[39;00m mode \u001b[39min\u001b[39;00m (\u001b[39m'\u001b[39m\u001b[39ma\u001b[39m\u001b[39m'\u001b[39m, \u001b[39m'\u001b[39m\u001b[39mr\u001b[39m\u001b[39m'\u001b[39m):\n\u001b[0;32m--> 264\u001b[0m     c \u001b[39m=\u001b[39m Collection(path, mode, driver\u001b[39m=\u001b[39;49mdriver, encoding\u001b[39m=\u001b[39;49mencoding,\n\u001b[1;32m    265\u001b[0m                    layer\u001b[39m=\u001b[39;49mlayer, enabled_drivers\u001b[39m=\u001b[39;49menabled_drivers, \u001b[39m*\u001b[39;49m\u001b[39m*\u001b[39;49mkwargs)\n\u001b[1;32m    266\u001b[0m \u001b[39melif\u001b[39;00m mode \u001b[39m==\u001b[39m \u001b[39m'\u001b[39m\u001b[39mw\u001b[39m\u001b[39m'\u001b[39m:\n\u001b[1;32m    267\u001b[0m     \u001b[39mif\u001b[39;00m schema:\n\u001b[1;32m    268\u001b[0m         \u001b[39m# Make an ordered dict of schema properties.\u001b[39;00m\n",
      "File \u001b[0;32m~/miniconda3/envs/heli/lib/python3.8/site-packages/fiona/collection.py:171\u001b[0m, in \u001b[0;36mCollection.__init__\u001b[0;34m(self, path, mode, driver, schema, crs, encoding, layer, vsi, archive, enabled_drivers, crs_wkt, ignore_fields, ignore_geometry, **kwargs)\u001b[0m\n\u001b[1;32m    168\u001b[0m     \u001b[39mraise\u001b[39;00m\n\u001b[1;32m    170\u001b[0m \u001b[39mif\u001b[39;00m \u001b[39mself\u001b[39m\u001b[39m.\u001b[39msession \u001b[39mis\u001b[39;00m \u001b[39mnot\u001b[39;00m \u001b[39mNone\u001b[39;00m:\n\u001b[0;32m--> 171\u001b[0m     \u001b[39mself\u001b[39;49m\u001b[39m.\u001b[39;49mguard_driver_mode()\n\u001b[1;32m    173\u001b[0m \u001b[39mif\u001b[39;00m \u001b[39mself\u001b[39m\u001b[39m.\u001b[39mmode \u001b[39min\u001b[39;00m (\u001b[39m\"\u001b[39m\u001b[39ma\u001b[39m\u001b[39m\"\u001b[39m, \u001b[39m\"\u001b[39m\u001b[39mw\u001b[39m\u001b[39m\"\u001b[39m):\n\u001b[1;32m    174\u001b[0m     \u001b[39mself\u001b[39m\u001b[39m.\u001b[39m_valid_geom_types \u001b[39m=\u001b[39m _get_valid_geom_types(\u001b[39mself\u001b[39m\u001b[39m.\u001b[39mschema, \u001b[39mself\u001b[39m\u001b[39m.\u001b[39mdriver)\n",
      "File \u001b[0;32m~/miniconda3/envs/heli/lib/python3.8/site-packages/fiona/collection.py:188\u001b[0m, in \u001b[0;36mCollection.guard_driver_mode\u001b[0;34m(self)\u001b[0m\n\u001b[1;32m    186\u001b[0m driver \u001b[39m=\u001b[39m \u001b[39mself\u001b[39m\u001b[39m.\u001b[39msession\u001b[39m.\u001b[39mget_driver()\n\u001b[1;32m    187\u001b[0m \u001b[39mif\u001b[39;00m driver \u001b[39mnot\u001b[39;00m \u001b[39min\u001b[39;00m supported_drivers:\n\u001b[0;32m--> 188\u001b[0m     \u001b[39mraise\u001b[39;00m DriverError(\u001b[39m\"\u001b[39m\u001b[39munsupported driver: \u001b[39m\u001b[39m%r\u001b[39;00m\u001b[39m\"\u001b[39m \u001b[39m%\u001b[39m driver)\n\u001b[1;32m    189\u001b[0m \u001b[39mif\u001b[39;00m \u001b[39mself\u001b[39m\u001b[39m.\u001b[39mmode \u001b[39mnot\u001b[39;00m \u001b[39min\u001b[39;00m supported_drivers[driver]:\n\u001b[1;32m    190\u001b[0m     \u001b[39mraise\u001b[39;00m DriverError(\u001b[39m\"\u001b[39m\u001b[39munsupported mode: \u001b[39m\u001b[39m%r\u001b[39;00m\u001b[39m\"\u001b[39m \u001b[39m%\u001b[39m \u001b[39mself\u001b[39m\u001b[39m.\u001b[39mmode)\n",
      "\u001b[0;31mDriverError\u001b[0m: unsupported driver: 'KML'"
     ]
    }
   ],
   "source": [
    "with ZipFile(kmz_fp, 'r') as kmz:\n",
    "    kml_fps = kmz.namelist()\n",
    "    kmz.extractall(test_dir)\n",
    "kml_fp = [fp for fp in kml_fps if fp.endswith('kml')][0]\n",
    "my_map = gpd.read_file(join(test_dir, kml_fp), driver='KML')\n",
    "my_map[::1000].explore()"
   ]
  },
  {
   "cell_type": "markdown",
   "metadata": {},
   "source": [
    "## Mosaicing all LAZ files to one\n",
    "Tried Las2las - really didn't work. Pdal merge seems to be working (based on file size alone)"
   ]
  },
  {
   "cell_type": "code",
   "execution_count": 5,
   "metadata": {},
   "outputs": [
    {
     "name": "stdout",
     "output_type": "stream",
     "text": [
      "['pdal', 'merge', '/Users/zachkeskinen/Documents/ice-road-copters/test/09_EXPORT/*.laz', '/Users/zachkeskinen/Documents/ice-road-copters/test/09_EXPORT/merge.laz']\n"
     ]
    }
   ],
   "source": [
    "# in_fps_str = f'{laz_fps}'.replace('[','').replace(']','')\n",
    "in_str = join(test_dir, '*.laz')\n",
    "out_fp = join(test_dir, 'merge.laz')\n",
    "mosaic_cmd = f'pdal merge {in_str} {out_fp}'\n",
    "mosaic_cmd = shlex.split(mosaic_cmd)\n",
    "print(mosaic_cmd)\n",
    "#  cl_call(mosaic_cmd)"
   ]
  },
  {
   "cell_type": "markdown",
   "metadata": {},
   "source": [
    "## Download DEM for dem filtering step\n",
    "\n",
    "Needs to be projected into the right CRS (got from las files)"
   ]
  },
  {
   "cell_type": "code",
   "execution_count": 6,
   "metadata": {},
   "outputs": [
    {
     "name": "stdout",
     "output_type": "stream",
     "text": [
      "epsg:32611\n",
      "WGS 84\n"
     ]
    }
   ],
   "source": [
    "import laspy\n",
    "filepath = out_fp\n",
    "\n",
    "with laspy.open(filepath) as data:\n",
    "     hdr = data.header\n",
    "     crs = hdr.parse_crs()\n",
    "wgs84 = pyproj.CRS('EPSG:4326')\n",
    "utm_bounds = box(hdr.mins[0], hdr.mins[1], hdr.maxs[0], hdr.maxs[1])\n",
    "project = pyproj.Transformer.from_crs(crs, wgs84 , always_xy=True).transform\n",
    "wgs84_bounds = transform(project, utm_bounds)\n",
    "dem_wgs = py3dep.get_map('DEM', wgs84_bounds, resolution = 1, crs = 'epsg:4326')\n",
    "dem_utm = dem_wgs.rio.reproject(crs)\n",
    "dem_fp = join('/Users/zachkeskinen/Documents/ice-road-copters/test/dems','full.tif')\n",
    "dem_utm.rio.to_raster(dem_fp)\n",
    "print(crs)\n",
    "print(crs.ellipsoid)"
   ]
  },
  {
   "cell_type": "markdown",
   "metadata": {},
   "source": [
    "## Generate outfile names for gdal input swaps\n",
    "\n",
    "use the:\n",
    "- --readers.las.filename=str(out_fp)\n",
    "- --writers.las.filename=str(join(test_dir, 'out.laz'))\n",
    "- --writers.gdal.filename=str(join(test_dir, 'out.tif'))"
   ]
  },
  {
   "cell_type": "code",
   "execution_count": null,
   "metadata": {},
   "outputs": [],
   "source": [
    "outlas = str(join(test_dir, 'outv2.las'))\n",
    "outtif = str(join(test_dir, 'outv2.tif'))"
   ]
  },
  {
   "cell_type": "markdown",
   "metadata": {},
   "source": [
    "## Running JSON Pipeline"
   ]
  },
  {
   "cell_type": "code",
   "execution_count": 13,
   "metadata": {},
   "outputs": [
    {
     "name": "stdout",
     "output_type": "stream",
     "text": [
      "['pdal', 'pipeline', '-i', './jsons/test.json', '--readers.las.filename=/Users/zachkeskinen/Documents/ice-road-copters/test/09_EXPORT/merge.laz', '--writers.las.filename=/Users/zachkeskinen/Documents/ice-road-copters/test/09_EXPORT/outv2.las', '--writers.gdal.filename=/Users/zachkeskinen/Documents/ice-road-copters/test/09_EXPORT/outv2.tif', '-v', '8']\n"
     ]
    },
    {
     "name": "stderr",
     "output_type": "stream",
     "text": [
      "(PDAL Debug) Debugging...\n",
      "(pdal pipeline readers.las Debug) \t\t\tGeotiff_Information:\n",
      "   Version: 1\n",
      "   Key_Revision: 1.0\n",
      "   Tagged_Information:\n",
      "      End_Of_Tags.\n",
      "   Keyed_Information:\n",
      "      GTModelTypeGeoKey (Short,1): ModelTypeProjected\n",
      "      GTRasterTypeGeoKey (Short,1): RasterPixelIsArea\n",
      "      GTCitationGeoKey (Ascii,22): \"WGS 84 / UTM zone 11N\"\n",
      "      GeogCitationGeoKey (Ascii,22): \"WGS 84 / UTM zone 11N\"\n",
      "      GeogAngularUnitsGeoKey (Short,1): Angular_Degree\n",
      "      ProjectedCSTypeGeoKey (Short,1): PCS_WGS84_UTM_zone_11N\n",
      "      ProjLinearUnitsGeoKey (Short,1): Linear_Meter\n",
      "      VerticalCitationGeoKey (Ascii,20): \"Ellipsoidal Heights\"\n",
      "      VerticalUnitsGeoKey (Short,1): Linear_Meter\n",
      "      End_Of_Keys.\n",
      "   End_Of_Geotiff.\n",
      "\n",
      "(pdal pipeline filters.mongo Debug) Building expression from: {\"$and\":[{\"ReturnNumber\":{\"$gt\":0}},{\"NumberOfReturns\":{\"$gt\":0}}]}\n",
      "(pdal pipeline filters.mongo Debug) Built expression: $and\n",
      "  $and\n",
      "    ReturnNumber     $gt 0.000000\n",
      "    NumberOfReturns     $gt 0.000000\n",
      "\n",
      "\n",
      "(pdal pipeline Debug) Executing pipeline in standard mode.\n",
      "(pdal pipeline filters.dem Debug) GDAL debug: GDAL: GDALOpen(/Users/zachkeskinen/Documents/ice-road-copters/test/dems/quantum_utm.tif, this=0x7fd7c2576ac0) succeeds as GTiff.\n",
      "(pdal pipeline filters.dem Debug) GDAL debug: GDAL: GDAL_CACHEMAX = 819 MB\n",
      "(pdal pipeline filters.outlier Debug) \t\tLabeled 22026457 outliers as noise!\n",
      "(pdal pipeline filters.smrf Debug) progressiveFilter: radius = 1\t20599075 ground cells\t54285 non-ground cells\t(0.26% of cells contain ground)\n",
      "(pdal pipeline filters.smrf Debug) progressiveFilter: radius = 1\t19789497 ground cells\t863863 non-ground cells\t(4.18% of cells contain ground)\n",
      "(pdal pipeline filters.smrf Debug) progressiveFilter: radius = 2\t19502804 ground cells\t1150556 non-ground cells\t(5.57% of cells contain ground)\n",
      "(pdal pipeline filters.smrf Debug) progressiveFilter: radius = 3\t19381178 ground cells\t1272182 non-ground cells\t(6.16% of cells contain ground)\n",
      "(pdal pipeline filters.smrf Debug) progressiveFilter: radius = 4\t19326838 ground cells\t1326522 non-ground cells\t(6.42% of cells contain ground)\n",
      "(pdal pipeline filters.smrf Debug) progressiveFilter: radius = 5\t19298087 ground cells\t1355273 non-ground cells\t(6.56% of cells contain ground)\n",
      "(pdal pipeline filters.smrf Debug) progressiveFilter: radius = 6\t19277103 ground cells\t1376257 non-ground cells\t(6.66% of cells contain ground)\n",
      "(pdal pipeline filters.smrf Debug) progressiveFilter: radius = 7\t19263287 ground cells\t1390073 non-ground cells\t(6.73% of cells contain ground)\n",
      "(pdal pipeline filters.smrf Debug) progressiveFilter: radius = 8\t19252519 ground cells\t1400841 non-ground cells\t(6.78% of cells contain ground)\n",
      "(pdal pipeline filters.smrf Debug) progressiveFilter: radius = 9\t19242136 ground cells\t1411224 non-ground cells\t(6.83% of cells contain ground)\n",
      "(pdal pipeline filters.smrf Debug) progressiveFilter: radius = 10\t19230811 ground cells\t1422549 non-ground cells\t(6.89% of cells contain ground)\n",
      "(pdal pipeline filters.smrf Debug) progressiveFilter: radius = 11\t19224466 ground cells\t1428894 non-ground cells\t(6.92% of cells contain ground)\n",
      "(pdal pipeline filters.smrf Debug) progressiveFilter: radius = 12\t19218342 ground cells\t1435018 non-ground cells\t(6.95% of cells contain ground)\n",
      "(pdal pipeline filters.smrf Debug) progressiveFilter: radius = 13\t19212624 ground cells\t1440736 non-ground cells\t(6.98% of cells contain ground)\n",
      "(pdal pipeline filters.smrf Debug) progressiveFilter: radius = 14\t19208603 ground cells\t1444757 non-ground cells\t(7.00% of cells contain ground)\n",
      "(pdal pipeline filters.smrf Debug) progressiveFilter: radius = 15\t19205756 ground cells\t1447604 non-ground cells\t(7.01% of cells contain ground)\n",
      "(pdal pipeline filters.smrf Debug) progressiveFilter: radius = 16\t19203351 ground cells\t1450009 non-ground cells\t(7.02% of cells contain ground)\n",
      "(pdal pipeline filters.smrf Debug) progressiveFilter: radius = 17\t19200966 ground cells\t1452394 non-ground cells\t(7.03% of cells contain ground)\n",
      "(pdal pipeline filters.smrf Debug) progressiveFilter: radius = 18\t19198160 ground cells\t1455200 non-ground cells\t(7.05% of cells contain ground)\n",
      "(pdal pipeline filters.smrf Debug) \t416815143 ground points\t83331708 non-ground points\t(16.66% classified as ground)\n",
      "(pdal pipeline writers.las Debug) Wrote 416815143 points to the LAS file\n",
      "(pdal pipeline writers.gdal Debug) GDAL debug: GDAL: GDALDriver::Create(GTiff,/Users/zachkeskinen/Documents/ice-road-copters/test/09_EXPORT/outv2.tif,3640,5674,1,Float64,0x7fd7c257a2e0)\n",
      "(pdal pipeline writers.gdal Debug) GDAL debug: GDAL: GDALClose(/Users/zachkeskinen/Documents/ice-road-copters/test/09_EXPORT/outv2.tif, this=0x7fd7c25b3290)\n",
      "GDAL: GDALClose(/Users/zachkeskinen/Documents/ice-road-copters/test/dems/quantum_utm.tif, this=0x7fd7c2576ac0)\n"
     ]
    },
    {
     "name": "stdout",
     "output_type": "stream",
     "text": [
      "\n",
      "RETURN CODE 0\n"
     ]
    }
   ],
   "source": [
    "pipeline_cmd = f'pdal pipeline -i ./jsons/test.json --readers.las.filename=\"{out_fp}\" --writers.las.filename={outlas} --writers.gdal.filename={outtif} -v 8'\n",
    "# pipeline_cmd = 'pdal pipeline -i test.json -v 8'\n",
    "pipeline_cmd = shlex.split(pipeline_cmd)\n",
    "print(pipeline_cmd)\n",
    "cl_call(pipeline_cmd)"
   ]
  },
  {
   "cell_type": "markdown",
   "metadata": {},
   "source": [
    "## Visualization\n",
    "\n",
    "o3d visualization is awesome but seems to kill my kernel everytime when I try and close the window. \n",
    "\n",
    "Rioxarray visualization seems safer for quick checks"
   ]
  },
  {
   "cell_type": "code",
   "execution_count": null,
   "metadata": {},
   "outputs": [],
   "source": [
    "PC = laspy.read('/Users/zachkeskinen/Documents/ice-road-copters/test/09_EXPORT/crop.laz')\n",
    "\n",
    "points = np.vstack((PC.X, PC.Y, PC.Z)).transpose()\n",
    "\n",
    "cloud = o3d.geometry.PointCloud()\n",
    "cloud.points = o3d.utility.Vector3dVector(points)\n",
    "#pcd.colors = o3d.utility.Vector3dVector(colors/65535)\n",
    "#pcd.normals = o3d.utility.Vector3dVector(normals)0\n",
    "o3d.visualization.draw_geometries([cloud])"
   ]
  }
 ],
 "metadata": {
  "kernelspec": {
   "display_name": "Python 3.8.13 ('heli')",
   "language": "python",
   "name": "python3"
  },
  "language_info": {
   "codemirror_mode": {
    "name": "ipython",
    "version": 3
   },
   "file_extension": ".py",
   "mimetype": "text/x-python",
   "name": "python",
   "nbconvert_exporter": "python",
   "pygments_lexer": "ipython3",
   "version": "3.8.13"
  },
  "vscode": {
   "interpreter": {
    "hash": "b38bf96d929ed892a854a240f79fc97050674deef20950d0719a1a6703ca0f3a"
   }
  }
 },
 "nbformat": 4,
 "nbformat_minor": 2
}
