{
 "cells": [
  {
   "cell_type": "code",
   "execution_count": null,
   "metadata": {},
   "outputs": [],
   "source": [
    "import geopandas as gpd\n",
    "import laspy\n",
    "from shapely.geometry import box\n",
    "import matplotlib.pyplot as plt\n",
    "import contextily as ctx\n",
    "from glob import glob\n",
    "import os"
   ]
  },
  {
   "cell_type": "code",
   "execution_count": null,
   "metadata": {},
   "outputs": [],
   "source": [
    "transform_area='hwy_21'\n",
    "buffer_meters = 15\n",
    "dirname =  os.path.abspath('../data/results/')\n",
    "path = os.path.abspath('../transform_area/'+transform_area+'/*.shp')\n",
    "for filename in glob(path):\n",
    "    # Read in transform area (ice roads)\n",
    "    gdf = gpd.read_file(filename)\n",
    "    # Buffer geom based on user input\n",
    "    gdf['geometry'] = gdf.geometry.buffer(buffer_meters)\n",
    "    # Save buffered shpfile to directory we just made\n",
    "    # gdf.to_file(dirname+'/buffered_area.shp')"
   ]
  },
  {
   "cell_type": "code",
   "execution_count": null,
   "metadata": {},
   "outputs": [],
   "source": [
    "gdf.to_file('testing/test.shp')"
   ]
  },
  {
   "cell_type": "code",
   "execution_count": null,
   "metadata": {},
   "outputs": [],
   "source": [
    "gdf.geometry"
   ]
  },
  {
   "cell_type": "code",
   "execution_count": null,
   "metadata": {},
   "outputs": [],
   "source": [
    "buf = gpd.read_file('/Users/zachkeskinen/Documents/ice-road-copters/data/results/buffered_area.shp')"
   ]
  },
  {
   "cell_type": "code",
   "execution_count": null,
   "metadata": {},
   "outputs": [],
   "source": [
    "with laspy.open('/Users/zachkeskinen/Documents/ice-road-copters/data/20220317-220317_185608_VQ-580.laz') as f:\n",
    "    hdr = f.header"
   ]
  },
  {
   "cell_type": "code",
   "execution_count": null,
   "metadata": {},
   "outputs": [],
   "source": [
    "with laspy.open('/Users/zachkeskinen/Documents/ice-road-copters/data/results/clipped_PC.laz') as f:\n",
    "    hdr = f.header\n",
    "f, ax = plt.subplots()\n",
    "laz_box = box(hdr.x_min, hdr.y_min, hdr.x_max, hdr.y_max)\n",
    "x,y = laz_box.exterior.xy\n",
    "ax.plot(x,y)\n",
    "buf.plot(ax = ax, color = 'red')\n",
    "ctx.add_basemap(ax = ax, crs = buf.crs)"
   ]
  }
 ],
 "metadata": {
  "kernelspec": {
   "display_name": "Python 3.8.13 ('heli')",
   "language": "python",
   "name": "python3"
  },
  "language_info": {
   "codemirror_mode": {
    "name": "ipython",
    "version": 3
   },
   "file_extension": ".py",
   "mimetype": "text/x-python",
   "name": "python",
   "nbconvert_exporter": "python",
   "pygments_lexer": "ipython3",
   "version": "3.8.13"
  },
  "vscode": {
   "interpreter": {
    "hash": "b38bf96d929ed892a854a240f79fc97050674deef20950d0719a1a6703ca0f3a"
   }
  }
 },
 "nbformat": 4,
 "nbformat_minor": 2
}
