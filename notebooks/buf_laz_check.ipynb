{
 "cells": [
  {
   "cell_type": "code",
   "execution_count": 2,
   "metadata": {},
   "outputs": [],
   "source": [
    "import geopandas as gpd\n",
    "import laspy\n",
    "from shapely.geometry import box\n",
    "import matplotlib.pyplot as plt\n",
    "import contextily as ctx\n",
    "from glob import glob\n",
    "import os"
   ]
  },
  {
   "cell_type": "code",
   "execution_count": null,
   "metadata": {},
   "outputs": [],
   "source": [
    "transform_area='hwy_21'\n",
    "buffer_meters = 15\n",
    "dirname =  os.path.abspath('../data/results/')\n",
    "path = os.path.abspath('../transform_area/'+transform_area+'/*.shp')\n",
    "for filename in glob(path):\n",
    "    # Read in transform area (ice roads)\n",
    "    gdf = gpd.read_file(filename)\n",
    "    # Buffer geom based on user input\n",
    "    gdf['geometry'] = gdf.geometry.buffer(buffer_meters)\n",
    "    # Save buffered shpfile to directory we just made\n",
    "    # gdf.to_file(dirname+'/buffered_area.shp')"
   ]
  },
  {
   "cell_type": "code",
   "execution_count": 4,
   "metadata": {},
   "outputs": [],
   "source": [
    "buf = gpd.read_file('/Users/zachkeskinen/Documents/ice-road-copters/test/mcs-data/ice-road/results/buffered_area.shp')"
   ]
  },
  {
   "cell_type": "code",
   "execution_count": 9,
   "metadata": {},
   "outputs": [],
   "source": [
    "with laspy.open('/Users/zachkeskinen/Documents/ice-road-copters/test/mcs-data/ice-road/results/clipped_PC.laz') as f:\n",
    "    hdr = f.header"
   ]
  },
  {
   "cell_type": "code",
   "execution_count": 8,
   "metadata": {},
   "outputs": [
    {
     "data": {
      "text/plain": [
       "<AxesSubplot:>"
      ]
     },
     "execution_count": 8,
     "metadata": {},
     "output_type": "execute_result"
    },
    {
     "data": {
      "image/png": "[encoded data removed]",
      "text/plain": [
       "<Figure size 432x288 with 1 Axes>"
      ]
     },
     "metadata": {
      "needs_background": "light"
     },
     "output_type": "display_data"
    }
   ],
   "source": [
    "buf['geometry'].plot(linewidth = 100, color = 'black')"
   ]
  },
  {
   "cell_type": "code",
   "execution_count": 5,
   "metadata": {},
   "outputs": [],
   "source": [
    "import rioxarray as rxa\n",
    "dem = '/Users/zachkeskinen/Documents/ice-road-copters/test/mcs-data/ice-road/results/ref_PC.tif'\n",
    "d = rxa.open_rasterio(dem)"
   ]
  },
  {
   "cell_type": "code",
   "execution_count": 6,
   "metadata": {},
   "outputs": [
    {
     "data": {
      "text/plain": [
       "<matplotlib.collections.QuadMesh at 0x7fee6b83f3a0>"
      ]
     },
     "execution_count": 6,
     "metadata": {},
     "output_type": "execute_result"
    }
   ],
   "source": [
    "d.plot()"
   ]
  },
  {
   "cell_type": "code",
   "execution_count": 3,
   "metadata": {},
   "outputs": [
    {
     "data": {
      "text/plain": [
       "<AxesSubplot:>"
      ]
     },
     "execution_count": 3,
     "metadata": {},
     "output_type": "execute_result"
    },
    {
     "data": {
      "image/png": "[encoded data removed]",
      "text/plain": [
       "<Figure size 432x288 with 1 Axes>"
      ]
     },
     "metadata": {
      "needs_background": "light"
     },
     "output_type": "display_data"
    }
   ],
   "source": [
    "buf.plot()"
   ]
  },
  {
   "cell_type": "code",
   "execution_count": 16,
   "metadata": {},
   "outputs": [],
   "source": [
    "import fiona\n",
    "from shapely.geometry import mapping\n",
    "import os\n",
    "# Define a polygon feature geometry with one attribute\n",
    "schema = {\n",
    "    'geometry': 'Polygon',\n",
    "    'properties': {'id': 'int'},\n",
    "}\n",
    "# Write a new Shapefile\n",
    "with fiona.open(os.path.expanduser('~/Downloads/laztest.shp'), 'w', 'ESRI Shapefile', schema) as c:\n",
    "    ## If there are multiple geometries, put the \"for\" loop here\n",
    "    c.write({\n",
    "        'geometry': mapping(laz_box),\n",
    "        'properties': {'id': 123},\n",
    "    })\n",
    "# type(laz_box)"
   ]
  },
  {
   "cell_type": "code",
   "execution_count": 5,
   "metadata": {},
   "outputs": [
    {
     "data": {
      "text/plain": [
       "<AxesSubplot:>"
      ]
     },
     "execution_count": 5,
     "metadata": {},
     "output_type": "execute_result"
    },
    {
     "data": {
      "image/png": "[encoded data removed]",
      "text/plain": [
       "<Figure size 432x288 with 1 Axes>"
      ]
     },
     "metadata": {
      "needs_background": "light"
     },
     "output_type": "display_data"
    }
   ],
   "source": [
    "with laspy.open('/Users/zachkeskinen/Documents/ice-road-copters/test/mcs-data/20220317-220317_172628_VQ-580.laz') as f:\n",
    "    hdr = f.header\n",
    "f, ax = plt.subplots()\n",
    "laz_box = box(hdr.x_min, hdr.y_min, hdr.x_max, hdr.y_max)\n",
    "x,y = laz_box.exterior.xy\n",
    "ax.plot(x,y)\n",
    "buf.plot(ax = ax, color = 'red')\n",
    "# d.plot(ax = ax)\n",
    "# ctx.add_basemap(ax = ax, crs = buf.crs)"
   ]
  },
  {
   "cell_type": "code",
   "execution_count": 6,
   "metadata": {},
   "outputs": [
    {
     "data": {
      "image/svg+xml": "<svg xmlns=\"http://www.w3.org/2000/svg\" xmlns:xlink=\"http://www.w3.org/1999/xlink\" width=\"300\" height=\"300\" viewBox=\"604791.09304 4862691.78429 5136.519420000026 3818.046670000069\" preserveAspectRatio=\"xMinYMin meet\"><g transform=\"matrix(1,0,0,-1,0,9729201.615249999)\"><path fill-rule=\"evenodd\" fill=\"#66cc99\" stroke=\"#555555\" stroke-width=\"34.243462800000174\" opacity=\"0.6\" d=\"M 609737.3709999999,4862882.02575 L 609737.3709999999,4866319.5895 L 604981.3345,4866319.5895 L 604981.3345,4862882.02575 L 609737.3709999999,4862882.02575 z\" /></g></svg>",
      "text/plain": [
       "<shapely.geometry.polygon.Polygon at 0x7fc09d132af0>"
      ]
     },
     "execution_count": 6,
     "metadata": {},
     "output_type": "execute_result"
    }
   ],
   "source": [
    "laz_box"
   ]
  }
 ],
 "metadata": {
  "kernelspec": {
   "display_name": "Python 3.8.13 ('heli')",
   "language": "python",
   "name": "python3"
  },
  "language_info": {
   "codemirror_mode": {
    "name": "ipython",
    "version": 3
   },
   "file_extension": ".py",
   "mimetype": "text/x-python",
   "name": "python",
   "nbconvert_exporter": "python",
   "pygments_lexer": "ipython3",
   "version": "3.8.13"
  },
  "vscode": {
   "interpreter": {
    "hash": "b38bf96d929ed892a854a240f79fc97050674deef20950d0719a1a6703ca0f3a"
   }
  }
 },
 "nbformat": 4,
 "nbformat_minor": 2
}
