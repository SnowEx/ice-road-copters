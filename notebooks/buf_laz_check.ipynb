{
 "cells": [
  {
   "cell_type": "code",
   "execution_count": null,
   "metadata": {},
   "outputs": [],
   "source": [
    "import geopandas as gpd\n",
    "import laspy\n",
    "from shapely.geometry import box\n",
    "import matplotlib.pyplot as plt\n",
    "import contextily as ctx\n",
    "from glob import glob\n",
    "import os"
   ]
  },
  {
   "cell_type": "code",
   "execution_count": null,
   "metadata": {},
   "outputs": [],
   "source": [
    "transform_area='hwy_21'\n",
    "buffer_meters = 15\n",
    "dirname =  os.path.abspath('../data/results/')\n",
    "path = os.path.abspath('../transform_area/'+transform_area+'/*.shp')\n",
    "for filename in glob(path):\n",
    "    # Read in transform area (ice roads)\n",
    "    gdf = gpd.read_file(filename)\n",
    "    # Buffer geom based on user input\n",
    "    gdf['geometry'] = gdf.geometry.buffer(buffer_meters)\n",
    "    # Save buffered shpfile to directory we just made\n",
    "    # gdf.to_file(dirname+'/buffered_area.shp')"
   ]
  },
  {
   "cell_type": "code",
   "execution_count": null,
   "metadata": {},
   "outputs": [],
   "source": [
    "buf = gpd.read_file('/Users/zachkeskinen/Documents/ice-road-copters/test/mcs-data/ice-road/results/buffered_area.shp')"
   ]
  },
  {
   "cell_type": "code",
   "execution_count": null,
   "metadata": {},
   "outputs": [],
   "source": [
    "with laspy.open('/Users/zachkeskinen/Documents/ice-road-copters/test/mcs-data/ice-road/results/clipped_PC.laz') as f:\n",
    "    hdr = f.header"
   ]
  },
  {
   "cell_type": "code",
   "execution_count": null,
   "metadata": {},
   "outputs": [],
   "source": [
    "buf['geometry'].plot(linewidth = 100, color = 'black')"
   ]
  },
  {
   "cell_type": "code",
   "execution_count": null,
   "metadata": {},
   "outputs": [],
   "source": [
    "import rioxarray as rxa\n",
    "dem = '/Users/zachkeskinen/Documents/ice-road-copters/test/mcs-data/ice-road/results/ref_PC.tif'\n",
    "d = rxa.open_rasterio(dem)"
   ]
  },
  {
   "cell_type": "code",
   "execution_count": null,
   "metadata": {},
   "outputs": [],
   "source": [
    "d.plot()"
   ]
  },
  {
   "cell_type": "code",
   "execution_count": null,
   "metadata": {},
   "outputs": [],
   "source": [
    "buf.plot()"
   ]
  },
  {
   "cell_type": "code",
   "execution_count": null,
   "metadata": {},
   "outputs": [],
   "source": [
    "import fiona\n",
    "from shapely.geometry import mapping\n",
    "import os\n",
    "# Define a polygon feature geometry with one attribute\n",
    "schema = {\n",
    "    'geometry': 'Polygon',\n",
    "    'properties': {'id': 'int'},\n",
    "}\n",
    "# Write a new Shapefile\n",
    "with fiona.open(os.path.expanduser('~/Downloads/laztest.shp'), 'w', 'ESRI Shapefile', schema) as c:\n",
    "    ## If there are multiple geometries, put the \"for\" loop here\n",
    "    c.write({\n",
    "        'geometry': mapping(laz_box),\n",
    "        'properties': {'id': 123},\n",
    "    })\n",
    "# type(laz_box)"
   ]
  },
  {
   "cell_type": "code",
   "execution_count": null,
   "metadata": {},
   "outputs": [],
   "source": [
    "with laspy.open('/Users/zachkeskinen/Documents/ice-road-copters/test/mcs-data/20220317-220317_172628_VQ-580.laz') as f:\n",
    "    hdr = f.header\n",
    "f, ax = plt.subplots()\n",
    "laz_box = box(hdr.x_min, hdr.y_min, hdr.x_max, hdr.y_max)\n",
    "x,y = laz_box.exterior.xy\n",
    "ax.plot(x,y)\n",
    "buf.plot(ax = ax, color = 'red')\n",
    "# d.plot(ax = ax)\n",
    "# ctx.add_basemap(ax = ax, crs = buf.crs)"
   ]
  },
  {
   "cell_type": "code",
   "execution_count": null,
   "metadata": {},
   "outputs": [],
   "source": [
    "laz_box"
   ]
  }
 ],
 "metadata": {
  "kernelspec": {
   "display_name": "Python 3.6.8 64-bit",
   "language": "python",
   "name": "python3"
  },
  "language_info": {
   "codemirror_mode": {
    "name": "ipython",
    "version": 3
   },
   "file_extension": ".py",
   "mimetype": "text/x-python",
   "name": "python",
   "nbconvert_exporter": "python",
   "pygments_lexer": "ipython3",
   "version": "3.6.8"
  },
  "vscode": {
   "interpreter": {
    "hash": "31f2aee4e71d21fbe5cf8b01ff0e069b9275f58929596ceb00d14d90e3e16cd6"
   }
  }
 },
 "nbformat": 4,
 "nbformat_minor": 2
}
