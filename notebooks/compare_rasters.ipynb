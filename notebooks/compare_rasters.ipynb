{
 "cells": [
  {
   "cell_type": "code",
   "execution_count": null,
   "metadata": {},
   "outputs": [],
   "source": [
    "import rioxarray as rxa\n",
    "import matplotlib.pyplot as plt\n",
    "import contextily as cx\n",
    "from os.path import join"
   ]
  },
  {
   "cell_type": "code",
   "execution_count": null,
   "metadata": {},
   "outputs": [],
   "source": [
    "r1_fp = '/Users/zachkeskinen/Documents/ice-road-copters/test/09_EXPORT/outv2.tif'\n",
    "r2_fp = '/Users/zachkeskinen/Documents/ice-road-copters/notebooks/quantum.tif'"
   ]
  },
  {
   "cell_type": "code",
   "execution_count": null,
   "metadata": {},
   "outputs": [],
   "source": [
    "f, (ax, ax2) = plt.subplots(1, 2, figsize = (16,12))\n",
    "\n",
    "r1 = rxa.open_rasterio(r1_fp, mask_and_scale=True)\n",
    "r1.plot(ax = ax, vmin = 1600, vmax = 2200)\n",
    "# r2 = rxa.open_rasterio(r2_fp, mask_and_scale=True)\n",
    "# r2.plot(ax = ax2, vmin = 1600, vmax = 2200)\n",
    "\n",
    "# cx.add_basemap(ax= ax, crs = r1.rio.crs)\n",
    "# cx.add_basemap(ax = ax2, crs = r2.rio.crs)"
   ]
  },
  {
   "cell_type": "code",
   "execution_count": null,
   "metadata": {},
   "outputs": [],
   "source": [
    "# r2_repro = r2.rio.reproject_match(r1)\n",
    "# r2_repro.rio.to_raster(join('/Users/zachkeskinen/Documents/ice-road-copters/test/dems','quantum_utm.tif'))"
   ]
  },
  {
   "cell_type": "code",
   "execution_count": null,
   "metadata": {},
   "outputs": [],
   "source": [
    "r2_repro = r2.rio.reproject_match(r1)\n",
    "diff = r1-r2_repro\n",
    "clip = diff.rio.clip_box(*r1.rio.bounds())\n",
    "f, (ax) = plt.subplots(1, 1, figsize = (16,12))\n",
    "clip.plot(ax = ax, add_colorbar = True, vmin = -4, vmax = -2)\n",
    "# cx.add_basemap(ax = ax2, crs = diff.rio.crs)"
   ]
  }
 ],
 "metadata": {
  "kernelspec": {
   "display_name": "Python 3.8.13 ('heli')",
   "language": "python",
   "name": "python3"
  },
  "language_info": {
   "codemirror_mode": {
    "name": "ipython",
    "version": 3
   },
   "file_extension": ".py",
   "mimetype": "text/x-python",
   "name": "python",
   "nbconvert_exporter": "python",
   "pygments_lexer": "ipython3",
   "version": "3.8.13"
  },
  "vscode": {
   "interpreter": {
    "hash": "b38bf96d929ed892a854a240f79fc97050674deef20950d0719a1a6703ca0f3a"
   }
  }
 },
 "nbformat": 4,
 "nbformat_minor": 2
}
